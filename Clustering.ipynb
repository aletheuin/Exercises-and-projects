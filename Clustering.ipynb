{
 "cells": [
  {
   "cell_type": "code",
   "execution_count": 3,
   "metadata": {},
   "outputs": [
    {
     "data": {
      "text/html": [
       "<div>\n",
       "<style scoped>\n",
       "    .dataframe tbody tr th:only-of-type {\n",
       "        vertical-align: middle;\n",
       "    }\n",
       "\n",
       "    .dataframe tbody tr th {\n",
       "        vertical-align: top;\n",
       "    }\n",
       "\n",
       "    .dataframe thead th {\n",
       "        text-align: right;\n",
       "    }\n",
       "</style>\n",
       "<table border=\"1\" class=\"dataframe\">\n",
       "  <thead>\n",
       "    <tr style=\"text-align: right;\">\n",
       "      <th></th>\n",
       "      <th>State</th>\n",
       "      <th>Murder</th>\n",
       "      <th>Assault</th>\n",
       "      <th>UrbanPop</th>\n",
       "      <th>Rape</th>\n",
       "    </tr>\n",
       "  </thead>\n",
       "  <tbody>\n",
       "    <tr>\n",
       "      <th>0</th>\n",
       "      <td>Alabama</td>\n",
       "      <td>13.2</td>\n",
       "      <td>236</td>\n",
       "      <td>58</td>\n",
       "      <td>21.2</td>\n",
       "    </tr>\n",
       "    <tr>\n",
       "      <th>1</th>\n",
       "      <td>Alaska</td>\n",
       "      <td>10.0</td>\n",
       "      <td>263</td>\n",
       "      <td>48</td>\n",
       "      <td>44.5</td>\n",
       "    </tr>\n",
       "    <tr>\n",
       "      <th>2</th>\n",
       "      <td>Arizona</td>\n",
       "      <td>8.1</td>\n",
       "      <td>294</td>\n",
       "      <td>80</td>\n",
       "      <td>31.0</td>\n",
       "    </tr>\n",
       "    <tr>\n",
       "      <th>3</th>\n",
       "      <td>Arkansas</td>\n",
       "      <td>8.8</td>\n",
       "      <td>190</td>\n",
       "      <td>50</td>\n",
       "      <td>19.5</td>\n",
       "    </tr>\n",
       "    <tr>\n",
       "      <th>4</th>\n",
       "      <td>California</td>\n",
       "      <td>9.0</td>\n",
       "      <td>276</td>\n",
       "      <td>91</td>\n",
       "      <td>40.6</td>\n",
       "    </tr>\n",
       "  </tbody>\n",
       "</table>\n",
       "</div>"
      ],
      "text/plain": [
       "        State  Murder  Assault  UrbanPop  Rape\n",
       "0     Alabama    13.2      236        58  21.2\n",
       "1      Alaska    10.0      263        48  44.5\n",
       "2     Arizona     8.1      294        80  31.0\n",
       "3    Arkansas     8.8      190        50  19.5\n",
       "4  California     9.0      276        91  40.6"
      ]
     },
     "execution_count": 3,
     "metadata": {},
     "output_type": "execute_result"
    }
   ],
   "source": [
    "import numpy as np\n",
    "import matplotlib.pyplot as plt\n",
    "import pandas as pd\n",
    "\n",
    "# Cargamos los datos con pandas\n",
    "dataset = pd.read_csv(\"crime_data.csv\")\n",
    "dataset.head()\n"
   ]
  },
  {
   "cell_type": "code",
   "execution_count": 4,
   "metadata": {},
   "outputs": [],
   "source": [
    "col_names = list(dataset.columns)\n",
    "col_names.remove('State')\n",
    "X = dataset[col_names]"
   ]
  },
  {
   "cell_type": "code",
   "execution_count": 5,
   "metadata": {},
   "outputs": [
    {
     "data": {
      "image/png": "[encoded data removed]",
      "text/plain": [
       "<Figure size 432x288 with 1 Axes>"
      ]
     },
     "metadata": {
      "needs_background": "light"
     },
     "output_type": "display_data"
    }
   ],
   "source": [
    "# Método del codo para averiguar el número óptimo de clusters\n",
    "from sklearn.cluster import KMeans\n",
    "wcss = []\n",
    "for i in range(1, 11):\n",
    "    kmeans = KMeans(n_clusters = i, init = \"k-means++\", max_iter = 300, n_init = 10, random_state = 0)\n",
    "    kmeans.fit(X)\n",
    "    wcss.append(kmeans.inertia_)\n",
    "    \n",
    "plt.plot(range(1,11), wcss)\n",
    "plt.title(\"Método del codo\")\n",
    "plt.xlabel(\"Número de Clusters\")\n",
    "plt.ylabel(\"WCSS(k)\")\n",
    "plt.show()\n"
   ]
  },
  {
   "cell_type": "code",
   "execution_count": 21,
   "metadata": {},
   "outputs": [],
   "source": [
    "#número ideal de cluster es igual a 3;  parece el optimo por el método del codo (a partir del tercero la reducción de dispersión por un cluster adicional es pequeña)\n",
    "\n",
    "# Aplicar el método de k-means para segmentar el data set\n",
    "kmeans = KMeans(n_clusters = 3, init=\"k-means++\", max_iter = 300, n_init = 10, random_state = 0)\n",
    "y_kmeans = kmeans.fit_predict(X)"
   ]
  },
  {
   "cell_type": "code",
   "execution_count": 22,
   "metadata": {},
   "outputs": [
    {
     "data": {
      "text/plain": [
       "array([[  4.27      ,  87.55      ,  59.75      ,  14.39      ],\n",
       "       [  8.21428571, 173.28571429,  70.64285714,  22.84285714],\n",
       "       [ 11.8125    , 272.5625    ,  68.3125    ,  28.375     ]])"
      ]
     },
     "execution_count": 22,
     "metadata": {},
     "output_type": "execute_result"
    }
   ],
   "source": [
    "# Los centroides \n",
    "kmeans.cluster_centers_"
   ]
  },
  {
   "cell_type": "code",
   "execution_count": 23,
   "metadata": {},
   "outputs": [
    {
     "name": "stdout",
     "output_type": "stream",
     "text": [
      "Cluster 0\n",
      "6       Connecticut\n",
      "10           Hawaii\n",
      "11            Idaho\n",
      "13          Indiana\n",
      "14             Iowa\n",
      "15           Kansas\n",
      "16         Kentucky\n",
      "18            Maine\n",
      "22        Minnesota\n",
      "25          Montana\n",
      "26         Nebraska\n",
      "28    New Hampshire\n",
      "33     North Dakota\n",
      "34             Ohio\n",
      "37     Pennsylvania\n",
      "40     South Dakota\n",
      "43             Utah\n",
      "44          Vermont\n",
      "47    West Virginia\n",
      "48        Wisconsin\n",
      "Name: State, dtype: object\n",
      "Cluster 1\n",
      "3          Arkansas\n",
      "5          Colorado\n",
      "9           Georgia\n",
      "20    Massachusetts\n",
      "24         Missouri\n",
      "29       New Jersey\n",
      "35         Oklahoma\n",
      "36           Oregon\n",
      "38     Rhode Island\n",
      "41        Tennessee\n",
      "42            Texas\n",
      "45         Virginia\n",
      "46       Washington\n",
      "49          Wyoming\n",
      "Name: State, dtype: object\n",
      "Cluster 2\n",
      "0            Alabama\n",
      "1             Alaska\n",
      "2            Arizona\n",
      "4         California\n",
      "7           Delaware\n",
      "8            Florida\n",
      "12          Illinois\n",
      "17         Louisiana\n",
      "19          Maryland\n",
      "21          Michigan\n",
      "23       Mississippi\n",
      "27            Nevada\n",
      "30        New Mexico\n",
      "31          New York\n",
      "32    North Carolina\n",
      "39    South Carolina\n",
      "Name: State, dtype: object\n"
     ]
    }
   ],
   "source": [
    "#Obtención del listado de Estados pertenecientes a cada cluster\n",
    "\n",
    "for i in range(max(y_kmeans) + 1):\n",
    "    print (\"Cluster\", i)\n",
    "    print (dataset[\"State\"][y_kmeans == i])"
   ]
  },
  {
   "cell_type": "code",
   "execution_count": null,
   "metadata": {},
   "outputs": [],
   "source": []
  }
 ],
 "metadata": {
  "kernelspec": {
   "display_name": "Python 3",
   "language": "python",
   "name": "python3"
  },
  "language_info": {
   "codemirror_mode": {
    "name": "ipython",
    "version": 3
   },
   "file_extension": ".py",
   "mimetype": "text/x-python",
   "name": "python",
   "nbconvert_exporter": "python",
   "pygments_lexer": "ipython3",
   "version": "3.8.3"
  }
 },
 "nbformat": 4,
 "nbformat_minor": 4
}
