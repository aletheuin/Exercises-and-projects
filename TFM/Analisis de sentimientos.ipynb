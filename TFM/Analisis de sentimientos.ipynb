{
  "cells": [
    {
      "cell_type": "code",
      "execution_count": null,
      "metadata": {
        "id": "0y6mtoKh3_8s"
      },
      "outputs": [],
      "source": [
        "import tweepy\n",
        " \n",
        "# Add Twitter API key and secret\n",
        "consumer_key = \"AvIHKD0BW6iliU3KaymYcvNS5\"\n",
        "consumer_secret = \"6jSygH883VhpywP4MesL82SX9JmbXuEJRf9CoDgdAwBJqNgV3Q\"\n",
        " \n",
        "# Handling authentication with Twitter\n",
        "auth = tweepy.AppAuthHandler(consumer_key, consumer_secret)\n",
        " \n",
        "# Create a wrapper for the Twitter API\n",
        "api = tweepy.API(auth, wait_on_rate_limit=True, wait_on_rate_limit_notify=True)"
      ]
    },
    {
      "cell_type": "code",
      "execution_count": null,
      "metadata": {
        "colab": {
          "base_uri": "https://localhost:8080/"
        },
        "id": "7IG6D3IB9Xy5",
        "outputId": "1b073e59-afff-48e2-9c53-8b8a6fc83bf4"
      },
      "outputs": [
        {
          "name": "stdout",
          "output_type": "stream",
          "text": [
            "Buscar:Bitcoin price\n"
          ]
        }
      ],
      "source": [
        "consulta_tweet= input(\"Buscar:\")"
      ]
    },
    {
      "cell_type": "code",
      "execution_count": null,
      "metadata": {
        "colab": {
          "base_uri": "https://localhost:8080/"
        },
        "id": "0kJ9vP239tDb",
        "outputId": "91f1ad02-9713-4379-a066-b0f4ddd35f4d"
      },
      "outputs": [
        {
          "output_type": "stream",
          "name": "stdout",
          "text": [
            "just off the phone with the CEO of #Bitcoin\n",
            "\n",
            "confirmed the price could indeed go higher or lower, stack accordingly 👏\n",
            "1536011109232164865\n",
            "#Bitcoin Last Price $28116 #BTC 🚀\n",
            "Daily Indicators:\n",
            "-RSI: 37.9\n",
            "-MA(20): 29863\n",
            "-MA(50): 32285\n",
            "-MA(200): 40826\n",
            "-Bolli… https://t.co/VcOBmIARmZ\n",
            "1536011072125210624\n",
            "Amid Crypto price crash, avowed @foxandfriends cryptoevangelist Pete Hegseth promotes @Bitcoin credit card\n",
            "\n",
            "PETE: I… https://t.co/FU1RUYMxwy\n",
            "1536011033952804865\n"
          ]
        }
      ],
      "source": [
        "for tweet in tweepy.Cursor(api.search, q=consulta_tweet).items(3):\n",
        "  tweet_id = tweet.id\n",
        "  print(tweet.text)\n",
        "  print(tweet_id)"
      ]
    },
    {
      "cell_type": "code",
      "execution_count": null,
      "metadata": {
        "id": "hPXhzRyGAP1j"
      },
      "outputs": [],
      "source": [
        "import pandas as pd\n",
        "\n",
        "tweets_number = 6000\n",
        "tweets_text = []\n",
        "\n",
        "for tweet in tweepy.Cursor(api.search, q=consulta_tweet, lang=\"en\").items(tweets_number):\n",
        "    tweets_text.append(tweet.text)\n"
      ]
    },
    {
      "cell_type": "code",
      "execution_count": null,
      "metadata": {
        "colab": {
          "base_uri": "https://localhost:8080/"
        },
        "id": "9UsWdeGjF0LF",
        "outputId": "47fc17b6-a0c5-4a8a-8d71-9a208aa17d90"
      },
      "outputs": [
        {
          "output_type": "stream",
          "name": "stdout",
          "text": [
            "                                             tweet_text\n",
            "id                                                     \n",
            "0     just off the phone with the CEO of #Bitcoin\\n\\...\n",
            "1     Amid Crypto price crash, avowed @foxandfriends...\n",
            "2     - \\nBTC price: $28,139 / £22,846 \\n\\n35.54 Nak...\n",
            "3     RT @saylor: Today's news: (a) CPI understates ...\n",
            "4     RT @AltcoinDailyio: Price your life in fiat. Y...\n",
            "...                                                 ...\n",
            "5995  RT @Breedlove22: If this #Bitcoin bear market ...\n",
            "5996  Current Price:\\n#Bitcoin:$28,452.95\\n#Litecoin...\n",
            "5997  RT @AltcoinDailyio: Price your life in fiat. Y...\n",
            "5998  - \\nBTC price: $28,479 / £22,661 \\n\\n35.11 Nak...\n",
            "5999  RT @binance: ETF, short for 'exchange-traded f...\n",
            "\n",
            "[6000 rows x 1 columns]\n"
          ]
        }
      ],
      "source": [
        "#Creamos el Dataframe\n",
        "\n",
        "data = { 'tweet_text': tweets_text}\n",
        "encabezados = ['tweet_text']\n",
        "\n",
        "df = pd.DataFrame(data, columns = encabezados)\n",
        "df.index.name='id'\n",
        "print(df)\n",
        " "
      ]
    },
    {
      "cell_type": "code",
      "execution_count": null,
      "metadata": {
        "id": "Fg_EalwLH5gi"
      },
      "outputs": [],
      "source": [
        "df.to_csv('tweets.csv', index=False)"
      ]
    },
    {
      "cell_type": "code",
      "execution_count": null,
      "metadata": {
        "colab": {
          "base_uri": "https://localhost:8080/",
          "height": 424
        },
        "id": "Ks7XV2PHJ-aJ",
        "outputId": "84fa229c-d08b-4d7a-85b9-01ac4bb982d8"
      },
      "outputs": [
        {
          "output_type": "execute_result",
          "data": {
            "text/plain": [
              "                                             tweet_text\n",
              "0     just off the phone with the CEO of #Bitcoin\\n\\...\n",
              "1     Amid Crypto price crash, avowed @foxandfriends...\n",
              "2     - \\nBTC price: $28,139 / £22,846 \\n\\n35.54 Nak...\n",
              "3     RT @saylor: Today's news: (a) CPI understates ...\n",
              "4     RT @AltcoinDailyio: Price your life in fiat. Y...\n",
              "...                                                 ...\n",
              "5995  RT @Breedlove22: If this #Bitcoin bear market ...\n",
              "5996  Current Price:\\n#Bitcoin:$28,452.95\\n#Litecoin...\n",
              "5997  RT @AltcoinDailyio: Price your life in fiat. Y...\n",
              "5998  - \\nBTC price: $28,479 / £22,661 \\n\\n35.11 Nak...\n",
              "5999  RT @binance: ETF, short for 'exchange-traded f...\n",
              "\n",
              "[6000 rows x 1 columns]"
            ],
            "text/html": [
              "\n",
              "  <div id=\"df-dff6efed-e1e9-415e-b424-4f068f3682f5\">\n",
              "    <div class=\"colab-df-container\">\n",
              "      <div>\n",
              "<style scoped>\n",
              "    .dataframe tbody tr th:only-of-type {\n",
              "        vertical-align: middle;\n",
              "    }\n",
              "\n",
              "    .dataframe tbody tr th {\n",
              "        vertical-align: top;\n",
              "    }\n",
              "\n",
              "    .dataframe thead th {\n",
              "        text-align: right;\n",
              "    }\n",
              "</style>\n",
              "<table border=\"1\" class=\"dataframe\">\n",
              "  <thead>\n",
              "    <tr style=\"text-align: right;\">\n",
              "      <th></th>\n",
              "      <th>tweet_text</th>\n",
              "    </tr>\n",
              "  </thead>\n",
              "  <tbody>\n",
              "    <tr>\n",
              "      <th>0</th>\n",
              "      <td>just off the phone with the CEO of #Bitcoin\\n\\...</td>\n",
              "    </tr>\n",
              "    <tr>\n",
              "      <th>1</th>\n",
              "      <td>Amid Crypto price crash, avowed @foxandfriends...</td>\n",
              "    </tr>\n",
              "    <tr>\n",
              "      <th>2</th>\n",
              "      <td>- \\nBTC price: $28,139 / £22,846 \\n\\n35.54 Nak...</td>\n",
              "    </tr>\n",
              "    <tr>\n",
              "      <th>3</th>\n",
              "      <td>RT @saylor: Today's news: (a) CPI understates ...</td>\n",
              "    </tr>\n",
              "    <tr>\n",
              "      <th>4</th>\n",
              "      <td>RT @AltcoinDailyio: Price your life in fiat. Y...</td>\n",
              "    </tr>\n",
              "    <tr>\n",
              "      <th>...</th>\n",
              "      <td>...</td>\n",
              "    </tr>\n",
              "    <tr>\n",
              "      <th>5995</th>\n",
              "      <td>RT @Breedlove22: If this #Bitcoin bear market ...</td>\n",
              "    </tr>\n",
              "    <tr>\n",
              "      <th>5996</th>\n",
              "      <td>Current Price:\\n#Bitcoin:$28,452.95\\n#Litecoin...</td>\n",
              "    </tr>\n",
              "    <tr>\n",
              "      <th>5997</th>\n",
              "      <td>RT @AltcoinDailyio: Price your life in fiat. Y...</td>\n",
              "    </tr>\n",
              "    <tr>\n",
              "      <th>5998</th>\n",
              "      <td>- \\nBTC price: $28,479 / £22,661 \\n\\n35.11 Nak...</td>\n",
              "    </tr>\n",
              "    <tr>\n",
              "      <th>5999</th>\n",
              "      <td>RT @binance: ETF, short for 'exchange-traded f...</td>\n",
              "    </tr>\n",
              "  </tbody>\n",
              "</table>\n",
              "<p>6000 rows × 1 columns</p>\n",
              "</div>\n",
              "      <button class=\"colab-df-convert\" onclick=\"convertToInteractive('df-dff6efed-e1e9-415e-b424-4f068f3682f5')\"\n",
              "              title=\"Convert this dataframe to an interactive table.\"\n",
              "              style=\"display:none;\">\n",
              "        \n",
              "  <svg xmlns=\"http://www.w3.org/2000/svg\" height=\"24px\"viewBox=\"0 0 24 24\"\n",
              "       width=\"24px\">\n",
              "    <path d=\"M0 0h24v24H0V0z\" fill=\"none\"/>\n",
              "    <path d=\"M18.56 5.44l.94 2.06.94-2.06 2.06-.94-2.06-.94-.94-2.06-.94 2.06-2.06.94zm-11 1L8.5 8.5l.94-2.06 2.06-.94-2.06-.94L8.5 2.5l-.94 2.06-2.06.94zm10 10l.94 2.06.94-2.06 2.06-.94-2.06-.94-.94-2.06-.94 2.06-2.06.94z\"/><path d=\"M17.41 7.96l-1.37-1.37c-.4-.4-.92-.59-1.43-.59-.52 0-1.04.2-1.43.59L10.3 9.45l-7.72 7.72c-.78.78-.78 2.05 0 2.83L4 21.41c.39.39.9.59 1.41.59.51 0 1.02-.2 1.41-.59l7.78-7.78 2.81-2.81c.8-.78.8-2.07 0-2.86zM5.41 20L4 18.59l7.72-7.72 1.47 1.35L5.41 20z\"/>\n",
              "  </svg>\n",
              "      </button>\n",
              "      \n",
              "  <style>\n",
              "    .colab-df-container {\n",
              "      display:flex;\n",
              "      flex-wrap:wrap;\n",
              "      gap: 12px;\n",
              "    }\n",
              "\n",
              "    .colab-df-convert {\n",
              "      background-color: #E8F0FE;\n",
              "      border: none;\n",
              "      border-radius: 50%;\n",
              "      cursor: pointer;\n",
              "      display: none;\n",
              "      fill: #1967D2;\n",
              "      height: 32px;\n",
              "      padding: 0 0 0 0;\n",
              "      width: 32px;\n",
              "    }\n",
              "\n",
              "    .colab-df-convert:hover {\n",
              "      background-color: #E2EBFA;\n",
              "      box-shadow: 0px 1px 2px rgba(60, 64, 67, 0.3), 0px 1px 3px 1px rgba(60, 64, 67, 0.15);\n",
              "      fill: #174EA6;\n",
              "    }\n",
              "\n",
              "    [theme=dark] .colab-df-convert {\n",
              "      background-color: #3B4455;\n",
              "      fill: #D2E3FC;\n",
              "    }\n",
              "\n",
              "    [theme=dark] .colab-df-convert:hover {\n",
              "      background-color: #434B5C;\n",
              "      box-shadow: 0px 1px 3px 1px rgba(0, 0, 0, 0.15);\n",
              "      filter: drop-shadow(0px 1px 2px rgba(0, 0, 0, 0.3));\n",
              "      fill: #FFFFFF;\n",
              "    }\n",
              "  </style>\n",
              "\n",
              "      <script>\n",
              "        const buttonEl =\n",
              "          document.querySelector('#df-dff6efed-e1e9-415e-b424-4f068f3682f5 button.colab-df-convert');\n",
              "        buttonEl.style.display =\n",
              "          google.colab.kernel.accessAllowed ? 'block' : 'none';\n",
              "\n",
              "        async function convertToInteractive(key) {\n",
              "          const element = document.querySelector('#df-dff6efed-e1e9-415e-b424-4f068f3682f5');\n",
              "          const dataTable =\n",
              "            await google.colab.kernel.invokeFunction('convertToInteractive',\n",
              "                                                     [key], {});\n",
              "          if (!dataTable) return;\n",
              "\n",
              "          const docLinkHtml = 'Like what you see? Visit the ' +\n",
              "            '<a target=\"_blank\" href=https://colab.research.google.com/notebooks/data_table.ipynb>data table notebook</a>'\n",
              "            + ' to learn more about interactive tables.';\n",
              "          element.innerHTML = '';\n",
              "          dataTable['output_type'] = 'display_data';\n",
              "          await google.colab.output.renderOutput(dataTable, element);\n",
              "          const docLink = document.createElement('div');\n",
              "          docLink.innerHTML = docLinkHtml;\n",
              "          element.appendChild(docLink);\n",
              "        }\n",
              "      </script>\n",
              "    </div>\n",
              "  </div>\n",
              "  "
            ]
          },
          "metadata": {},
          "execution_count": 7
        }
      ],
      "source": [
        "df2 = pd.read_csv(\"tweets.csv\")\n",
        "df2"
      ]
    },
    {
      "cell_type": "code",
      "execution_count": null,
      "metadata": {
        "id": "qi4nkk3Wkb00"
      },
      "outputs": [],
      "source": [
        "import pandas as pd\n",
        "import numpy as np\n",
        "import matplotlib.pyplot as plt\n",
        "import seaborn as sns\n",
        "from wordcloud import WordCloud\n",
        "import re\n"
      ]
    },
    {
      "cell_type": "code",
      "execution_count": null,
      "metadata": {
        "colab": {
          "base_uri": "https://localhost:8080/",
          "height": 424
        },
        "id": "pQzr4mVBpF-A",
        "outputId": "597a2de4-7c3c-49f4-b5a2-dfbec9934976"
      },
      "outputs": [
        {
          "output_type": "execute_result",
          "data": {
            "text/plain": [
              "                                             tweet_text\n",
              "0     just off the phone with the CEO of  Bitcoin\\n\\...\n",
              "1     Amid Crypto price crash, avowed   cryptoevange...\n",
              "2       \\nBTC price   28,139    22,846 \\n\\n35 54 Nak...\n",
              "3        Today s news   a  CPI understates inflation...\n",
              "4        Price your life in fiat  You get poorer \\n\\...\n",
              "...                                                 ...\n",
              "5995     If this  Bitcoin bear market rhymes with hi...\n",
              "5996  Current Price \\n Bitcoin  28,452 95\\n Litecoin...\n",
              "5997     Price your life in fiat  You get poorer \\n\\...\n",
              "5998    \\nBTC price   28,479    22,661 \\n\\n35 11 Nak...\n",
              "5999     ETF, short for  exchange traded fund  is an...\n",
              "\n",
              "[6000 rows x 1 columns]"
            ],
            "text/html": [
              "\n",
              "  <div id=\"df-58f62362-07e2-4a2e-98cb-558d44056480\">\n",
              "    <div class=\"colab-df-container\">\n",
              "      <div>\n",
              "<style scoped>\n",
              "    .dataframe tbody tr th:only-of-type {\n",
              "        vertical-align: middle;\n",
              "    }\n",
              "\n",
              "    .dataframe tbody tr th {\n",
              "        vertical-align: top;\n",
              "    }\n",
              "\n",
              "    .dataframe thead th {\n",
              "        text-align: right;\n",
              "    }\n",
              "</style>\n",
              "<table border=\"1\" class=\"dataframe\">\n",
              "  <thead>\n",
              "    <tr style=\"text-align: right;\">\n",
              "      <th></th>\n",
              "      <th>tweet_text</th>\n",
              "    </tr>\n",
              "  </thead>\n",
              "  <tbody>\n",
              "    <tr>\n",
              "      <th>0</th>\n",
              "      <td>just off the phone with the CEO of  Bitcoin\\n\\...</td>\n",
              "    </tr>\n",
              "    <tr>\n",
              "      <th>1</th>\n",
              "      <td>Amid Crypto price crash, avowed   cryptoevange...</td>\n",
              "    </tr>\n",
              "    <tr>\n",
              "      <th>2</th>\n",
              "      <td>\\nBTC price   28,139    22,846 \\n\\n35 54 Nak...</td>\n",
              "    </tr>\n",
              "    <tr>\n",
              "      <th>3</th>\n",
              "      <td>Today s news   a  CPI understates inflation...</td>\n",
              "    </tr>\n",
              "    <tr>\n",
              "      <th>4</th>\n",
              "      <td>Price your life in fiat  You get poorer \\n\\...</td>\n",
              "    </tr>\n",
              "    <tr>\n",
              "      <th>...</th>\n",
              "      <td>...</td>\n",
              "    </tr>\n",
              "    <tr>\n",
              "      <th>5995</th>\n",
              "      <td>If this  Bitcoin bear market rhymes with hi...</td>\n",
              "    </tr>\n",
              "    <tr>\n",
              "      <th>5996</th>\n",
              "      <td>Current Price \\n Bitcoin  28,452 95\\n Litecoin...</td>\n",
              "    </tr>\n",
              "    <tr>\n",
              "      <th>5997</th>\n",
              "      <td>Price your life in fiat  You get poorer \\n\\...</td>\n",
              "    </tr>\n",
              "    <tr>\n",
              "      <th>5998</th>\n",
              "      <td>\\nBTC price   28,479    22,661 \\n\\n35 11 Nak...</td>\n",
              "    </tr>\n",
              "    <tr>\n",
              "      <th>5999</th>\n",
              "      <td>ETF, short for  exchange traded fund  is an...</td>\n",
              "    </tr>\n",
              "  </tbody>\n",
              "</table>\n",
              "<p>6000 rows × 1 columns</p>\n",
              "</div>\n",
              "      <button class=\"colab-df-convert\" onclick=\"convertToInteractive('df-58f62362-07e2-4a2e-98cb-558d44056480')\"\n",
              "              title=\"Convert this dataframe to an interactive table.\"\n",
              "              style=\"display:none;\">\n",
              "        \n",
              "  <svg xmlns=\"http://www.w3.org/2000/svg\" height=\"24px\"viewBox=\"0 0 24 24\"\n",
              "       width=\"24px\">\n",
              "    <path d=\"M0 0h24v24H0V0z\" fill=\"none\"/>\n",
              "    <path d=\"M18.56 5.44l.94 2.06.94-2.06 2.06-.94-2.06-.94-.94-2.06-.94 2.06-2.06.94zm-11 1L8.5 8.5l.94-2.06 2.06-.94-2.06-.94L8.5 2.5l-.94 2.06-2.06.94zm10 10l.94 2.06.94-2.06 2.06-.94-2.06-.94-.94-2.06-.94 2.06-2.06.94z\"/><path d=\"M17.41 7.96l-1.37-1.37c-.4-.4-.92-.59-1.43-.59-.52 0-1.04.2-1.43.59L10.3 9.45l-7.72 7.72c-.78.78-.78 2.05 0 2.83L4 21.41c.39.39.9.59 1.41.59.51 0 1.02-.2 1.41-.59l7.78-7.78 2.81-2.81c.8-.78.8-2.07 0-2.86zM5.41 20L4 18.59l7.72-7.72 1.47 1.35L5.41 20z\"/>\n",
              "  </svg>\n",
              "      </button>\n",
              "      \n",
              "  <style>\n",
              "    .colab-df-container {\n",
              "      display:flex;\n",
              "      flex-wrap:wrap;\n",
              "      gap: 12px;\n",
              "    }\n",
              "\n",
              "    .colab-df-convert {\n",
              "      background-color: #E8F0FE;\n",
              "      border: none;\n",
              "      border-radius: 50%;\n",
              "      cursor: pointer;\n",
              "      display: none;\n",
              "      fill: #1967D2;\n",
              "      height: 32px;\n",
              "      padding: 0 0 0 0;\n",
              "      width: 32px;\n",
              "    }\n",
              "\n",
              "    .colab-df-convert:hover {\n",
              "      background-color: #E2EBFA;\n",
              "      box-shadow: 0px 1px 2px rgba(60, 64, 67, 0.3), 0px 1px 3px 1px rgba(60, 64, 67, 0.15);\n",
              "      fill: #174EA6;\n",
              "    }\n",
              "\n",
              "    [theme=dark] .colab-df-convert {\n",
              "      background-color: #3B4455;\n",
              "      fill: #D2E3FC;\n",
              "    }\n",
              "\n",
              "    [theme=dark] .colab-df-convert:hover {\n",
              "      background-color: #434B5C;\n",
              "      box-shadow: 0px 1px 3px 1px rgba(0, 0, 0, 0.15);\n",
              "      filter: drop-shadow(0px 1px 2px rgba(0, 0, 0, 0.3));\n",
              "      fill: #FFFFFF;\n",
              "    }\n",
              "  </style>\n",
              "\n",
              "      <script>\n",
              "        const buttonEl =\n",
              "          document.querySelector('#df-58f62362-07e2-4a2e-98cb-558d44056480 button.colab-df-convert');\n",
              "        buttonEl.style.display =\n",
              "          google.colab.kernel.accessAllowed ? 'block' : 'none';\n",
              "\n",
              "        async function convertToInteractive(key) {\n",
              "          const element = document.querySelector('#df-58f62362-07e2-4a2e-98cb-558d44056480');\n",
              "          const dataTable =\n",
              "            await google.colab.kernel.invokeFunction('convertToInteractive',\n",
              "                                                     [key], {});\n",
              "          if (!dataTable) return;\n",
              "\n",
              "          const docLinkHtml = 'Like what you see? Visit the ' +\n",
              "            '<a target=\"_blank\" href=https://colab.research.google.com/notebooks/data_table.ipynb>data table notebook</a>'\n",
              "            + ' to learn more about interactive tables.';\n",
              "          element.innerHTML = '';\n",
              "          dataTable['output_type'] = 'display_data';\n",
              "          await google.colab.output.renderOutput(dataTable, element);\n",
              "          const docLink = document.createElement('div');\n",
              "          docLink.innerHTML = docLinkHtml;\n",
              "          element.appendChild(docLink);\n",
              "        }\n",
              "      </script>\n",
              "    </div>\n",
              "  </div>\n",
              "  "
            ]
          },
          "metadata": {},
          "execution_count": 9
        }
      ],
      "source": [
        "#Creamos una funcion para limpiar ciertos caracteres en los tweets.\n",
        "\n",
        "def cleanTxt(text):\n",
        "  text=re.sub(r'@[A-Za-z0-9]+' ,\" \",text)\n",
        "  text=re.sub(r'#',\" \", text)\n",
        "  text=re.sub(r'RT[\\s]+',\" \", text)\n",
        "  text=re.sub(r'https?:\\/\\/\\S+',\" \", text)\n",
        "  text=re.sub(r'[^\\w\\s,]',\" \", text) \n",
        "  return text\n",
        "\n",
        "\n",
        "df2['tweet_text'] = df['tweet_text'].apply(cleanTxt)\n",
        "df2"
      ]
    },
    {
      "cell_type": "code",
      "execution_count": null,
      "metadata": {
        "colab": {
          "base_uri": "https://localhost:8080/",
          "height": 424
        },
        "id": "lUIdAdsEREZv",
        "outputId": "d34755a5-c677-484f-f92c-fc03f7ba41bf"
      },
      "outputs": [
        {
          "output_type": "execute_result",
          "data": {
            "text/plain": [
              "                                             tweet_text  polaridad\n",
              "0     just off the phone with the CEO of  Bitcoin\\n\\...   0.325000\n",
              "1     Amid Crypto price crash, avowed   cryptoevange...   0.000000\n",
              "2       \\nBTC price   28,139    22,846 \\n\\n35 54 Nak...   0.166667\n",
              "3        Today s news   a  CPI understates inflation...  -0.031250\n",
              "4        Price your life in fiat  You get poorer \\n\\...   0.000000\n",
              "...                                                 ...        ...\n",
              "5995     If this  Bitcoin bear market rhymes with hi...   0.000000\n",
              "5996  Current Price \\n Bitcoin  28,452 95\\n Litecoin...   0.000000\n",
              "5997     Price your life in fiat  You get poorer \\n\\...   0.000000\n",
              "5998    \\nBTC price   28,479    22,661 \\n\\n35 11 Nak...   0.166667\n",
              "5999     ETF, short for  exchange traded fund  is an...   0.000000\n",
              "\n",
              "[6000 rows x 2 columns]"
            ],
            "text/html": [
              "\n",
              "  <div id=\"df-82c97911-cf18-4bf7-9ca8-71e2abf53383\">\n",
              "    <div class=\"colab-df-container\">\n",
              "      <div>\n",
              "<style scoped>\n",
              "    .dataframe tbody tr th:only-of-type {\n",
              "        vertical-align: middle;\n",
              "    }\n",
              "\n",
              "    .dataframe tbody tr th {\n",
              "        vertical-align: top;\n",
              "    }\n",
              "\n",
              "    .dataframe thead th {\n",
              "        text-align: right;\n",
              "    }\n",
              "</style>\n",
              "<table border=\"1\" class=\"dataframe\">\n",
              "  <thead>\n",
              "    <tr style=\"text-align: right;\">\n",
              "      <th></th>\n",
              "      <th>tweet_text</th>\n",
              "      <th>polaridad</th>\n",
              "    </tr>\n",
              "  </thead>\n",
              "  <tbody>\n",
              "    <tr>\n",
              "      <th>0</th>\n",
              "      <td>just off the phone with the CEO of  Bitcoin\\n\\...</td>\n",
              "      <td>0.325000</td>\n",
              "    </tr>\n",
              "    <tr>\n",
              "      <th>1</th>\n",
              "      <td>Amid Crypto price crash, avowed   cryptoevange...</td>\n",
              "      <td>0.000000</td>\n",
              "    </tr>\n",
              "    <tr>\n",
              "      <th>2</th>\n",
              "      <td>\\nBTC price   28,139    22,846 \\n\\n35 54 Nak...</td>\n",
              "      <td>0.166667</td>\n",
              "    </tr>\n",
              "    <tr>\n",
              "      <th>3</th>\n",
              "      <td>Today s news   a  CPI understates inflation...</td>\n",
              "      <td>-0.031250</td>\n",
              "    </tr>\n",
              "    <tr>\n",
              "      <th>4</th>\n",
              "      <td>Price your life in fiat  You get poorer \\n\\...</td>\n",
              "      <td>0.000000</td>\n",
              "    </tr>\n",
              "    <tr>\n",
              "      <th>...</th>\n",
              "      <td>...</td>\n",
              "      <td>...</td>\n",
              "    </tr>\n",
              "    <tr>\n",
              "      <th>5995</th>\n",
              "      <td>If this  Bitcoin bear market rhymes with hi...</td>\n",
              "      <td>0.000000</td>\n",
              "    </tr>\n",
              "    <tr>\n",
              "      <th>5996</th>\n",
              "      <td>Current Price \\n Bitcoin  28,452 95\\n Litecoin...</td>\n",
              "      <td>0.000000</td>\n",
              "    </tr>\n",
              "    <tr>\n",
              "      <th>5997</th>\n",
              "      <td>Price your life in fiat  You get poorer \\n\\...</td>\n",
              "      <td>0.000000</td>\n",
              "    </tr>\n",
              "    <tr>\n",
              "      <th>5998</th>\n",
              "      <td>\\nBTC price   28,479    22,661 \\n\\n35 11 Nak...</td>\n",
              "      <td>0.166667</td>\n",
              "    </tr>\n",
              "    <tr>\n",
              "      <th>5999</th>\n",
              "      <td>ETF, short for  exchange traded fund  is an...</td>\n",
              "      <td>0.000000</td>\n",
              "    </tr>\n",
              "  </tbody>\n",
              "</table>\n",
              "<p>6000 rows × 2 columns</p>\n",
              "</div>\n",
              "      <button class=\"colab-df-convert\" onclick=\"convertToInteractive('df-82c97911-cf18-4bf7-9ca8-71e2abf53383')\"\n",
              "              title=\"Convert this dataframe to an interactive table.\"\n",
              "              style=\"display:none;\">\n",
              "        \n",
              "  <svg xmlns=\"http://www.w3.org/2000/svg\" height=\"24px\"viewBox=\"0 0 24 24\"\n",
              "       width=\"24px\">\n",
              "    <path d=\"M0 0h24v24H0V0z\" fill=\"none\"/>\n",
              "    <path d=\"M18.56 5.44l.94 2.06.94-2.06 2.06-.94-2.06-.94-.94-2.06-.94 2.06-2.06.94zm-11 1L8.5 8.5l.94-2.06 2.06-.94-2.06-.94L8.5 2.5l-.94 2.06-2.06.94zm10 10l.94 2.06.94-2.06 2.06-.94-2.06-.94-.94-2.06-.94 2.06-2.06.94z\"/><path d=\"M17.41 7.96l-1.37-1.37c-.4-.4-.92-.59-1.43-.59-.52 0-1.04.2-1.43.59L10.3 9.45l-7.72 7.72c-.78.78-.78 2.05 0 2.83L4 21.41c.39.39.9.59 1.41.59.51 0 1.02-.2 1.41-.59l7.78-7.78 2.81-2.81c.8-.78.8-2.07 0-2.86zM5.41 20L4 18.59l7.72-7.72 1.47 1.35L5.41 20z\"/>\n",
              "  </svg>\n",
              "      </button>\n",
              "      \n",
              "  <style>\n",
              "    .colab-df-container {\n",
              "      display:flex;\n",
              "      flex-wrap:wrap;\n",
              "      gap: 12px;\n",
              "    }\n",
              "\n",
              "    .colab-df-convert {\n",
              "      background-color: #E8F0FE;\n",
              "      border: none;\n",
              "      border-radius: 50%;\n",
              "      cursor: pointer;\n",
              "      display: none;\n",
              "      fill: #1967D2;\n",
              "      height: 32px;\n",
              "      padding: 0 0 0 0;\n",
              "      width: 32px;\n",
              "    }\n",
              "\n",
              "    .colab-df-convert:hover {\n",
              "      background-color: #E2EBFA;\n",
              "      box-shadow: 0px 1px 2px rgba(60, 64, 67, 0.3), 0px 1px 3px 1px rgba(60, 64, 67, 0.15);\n",
              "      fill: #174EA6;\n",
              "    }\n",
              "\n",
              "    [theme=dark] .colab-df-convert {\n",
              "      background-color: #3B4455;\n",
              "      fill: #D2E3FC;\n",
              "    }\n",
              "\n",
              "    [theme=dark] .colab-df-convert:hover {\n",
              "      background-color: #434B5C;\n",
              "      box-shadow: 0px 1px 3px 1px rgba(0, 0, 0, 0.15);\n",
              "      filter: drop-shadow(0px 1px 2px rgba(0, 0, 0, 0.3));\n",
              "      fill: #FFFFFF;\n",
              "    }\n",
              "  </style>\n",
              "\n",
              "      <script>\n",
              "        const buttonEl =\n",
              "          document.querySelector('#df-82c97911-cf18-4bf7-9ca8-71e2abf53383 button.colab-df-convert');\n",
              "        buttonEl.style.display =\n",
              "          google.colab.kernel.accessAllowed ? 'block' : 'none';\n",
              "\n",
              "        async function convertToInteractive(key) {\n",
              "          const element = document.querySelector('#df-82c97911-cf18-4bf7-9ca8-71e2abf53383');\n",
              "          const dataTable =\n",
              "            await google.colab.kernel.invokeFunction('convertToInteractive',\n",
              "                                                     [key], {});\n",
              "          if (!dataTable) return;\n",
              "\n",
              "          const docLinkHtml = 'Like what you see? Visit the ' +\n",
              "            '<a target=\"_blank\" href=https://colab.research.google.com/notebooks/data_table.ipynb>data table notebook</a>'\n",
              "            + ' to learn more about interactive tables.';\n",
              "          element.innerHTML = '';\n",
              "          dataTable['output_type'] = 'display_data';\n",
              "          await google.colab.output.renderOutput(dataTable, element);\n",
              "          const docLink = document.createElement('div');\n",
              "          docLink.innerHTML = docLinkHtml;\n",
              "          element.appendChild(docLink);\n",
              "        }\n",
              "      </script>\n",
              "    </div>\n",
              "  </div>\n",
              "  "
            ]
          },
          "metadata": {},
          "execution_count": 10
        }
      ],
      "source": [
        "from textblob import TextBlob\n",
        "\n",
        "df2['polaridad']=df2['tweet_text'].apply(lambda x: TextBlob(x).sentiment.polarity)\n",
        "df2"
      ]
    },
    {
      "cell_type": "code",
      "execution_count": null,
      "metadata": {
        "colab": {
          "base_uri": "https://localhost:8080/",
          "height": 354
        },
        "id": "RXVektMyfNcT",
        "outputId": "0fa8169b-2ac9-491c-e0d7-106e8c4e9ca2"
      },
      "outputs": [
        {
          "output_type": "stream",
          "name": "stderr",
          "text": [
            "/usr/local/lib/python3.7/dist-packages/seaborn/distributions.py:2619: FutureWarning: `distplot` is a deprecated function and will be removed in a future version. Please adapt your code to use either `displot` (a figure-level function with similar flexibility) or `histplot` (an axes-level function for histograms).\n",
            "  warnings.warn(msg, FutureWarning)\n"
          ]
        },
        {
          "output_type": "execute_result",
          "data": {
            "text/plain": [
              "<matplotlib.axes._subplots.AxesSubplot at 0x7f672a812cd0>"
            ]
          },
          "metadata": {},
          "execution_count": 11
        },
        {
          "output_type": "display_data",
          "data": {
            "text/plain": [
              "<Figure size 432x288 with 1 Axes>"
            ],
            "image/png": "[encoded data removed]"
          },
          "metadata": {
            "needs_background": "light"
          }
        }
      ],
      "source": [
        "import seaborn as sns\n",
        "\n",
        "sns.distplot(df2['polaridad'])\n",
        "\n"
      ]
    },
    {
      "cell_type": "code",
      "execution_count": null,
      "metadata": {
        "colab": {
          "base_uri": "https://localhost:8080/",
          "height": 270
        },
        "id": "kFRptRqz5vVl",
        "outputId": "17c78471-7d97-41f6-b7a5-3064a5545f10"
      },
      "outputs": [
        {
          "output_type": "execute_result",
          "data": {
            "text/plain": [
              "<matplotlib.image.AxesImage at 0x7f672a7f09d0>"
            ]
          },
          "metadata": {},
          "execution_count": 12
        },
        {
          "output_type": "display_data",
          "data": {
            "text/plain": [
              "<Figure size 432x288 with 1 Axes>"
            ],
            "image/png": "[encoded data removed]"
          },
          "metadata": {
            "needs_background": "light"
          }
        }
      ],
      "source": [
        "#Plot de World Cloud\n",
        "allWorlds=' '.join([twts for twts in df['tweet_text']])\n",
        "wordCloud = WordCloud(width = 500, height=300, random_state= 21, max_font_size=119).generate(allWorlds)\n",
        "plt.imshow(wordCloud, interpolation=\"bilinear\")\n"
      ]
    },
    {
      "cell_type": "code",
      "execution_count": null,
      "metadata": {
        "colab": {
          "base_uri": "https://localhost:8080/",
          "height": 424
        },
        "id": "HSsUbbSSEML4",
        "outputId": "9fdce763-fa00-4200-b1e6-0aa2710d6ef9"
      },
      "outputs": [
        {
          "output_type": "execute_result",
          "data": {
            "text/plain": [
              "                                             tweet_text  polaridad Puntuacion\n",
              "0     just off the phone with the CEO of  Bitcoin\\n\\...   0.325000   Positivo\n",
              "1     Amid Crypto price crash, avowed   cryptoevange...   0.000000     Neutro\n",
              "2       \\nBTC price   28,139    22,846 \\n\\n35 54 Nak...   0.166667   Positivo\n",
              "3        Today s news   a  CPI understates inflation...  -0.031250   Negativo\n",
              "4        Price your life in fiat  You get poorer \\n\\...   0.000000     Neutro\n",
              "...                                                 ...        ...        ...\n",
              "5995     If this  Bitcoin bear market rhymes with hi...   0.000000     Neutro\n",
              "5996  Current Price \\n Bitcoin  28,452 95\\n Litecoin...   0.000000     Neutro\n",
              "5997     Price your life in fiat  You get poorer \\n\\...   0.000000     Neutro\n",
              "5998    \\nBTC price   28,479    22,661 \\n\\n35 11 Nak...   0.166667   Positivo\n",
              "5999     ETF, short for  exchange traded fund  is an...   0.000000     Neutro\n",
              "\n",
              "[6000 rows x 3 columns]"
            ],
            "text/html": [
              "\n",
              "  <div id=\"df-bbd1e85e-5869-42ba-ba29-e5965163f9ff\">\n",
              "    <div class=\"colab-df-container\">\n",
              "      <div>\n",
              "<style scoped>\n",
              "    .dataframe tbody tr th:only-of-type {\n",
              "        vertical-align: middle;\n",
              "    }\n",
              "\n",
              "    .dataframe tbody tr th {\n",
              "        vertical-align: top;\n",
              "    }\n",
              "\n",
              "    .dataframe thead th {\n",
              "        text-align: right;\n",
              "    }\n",
              "</style>\n",
              "<table border=\"1\" class=\"dataframe\">\n",
              "  <thead>\n",
              "    <tr style=\"text-align: right;\">\n",
              "      <th></th>\n",
              "      <th>tweet_text</th>\n",
              "      <th>polaridad</th>\n",
              "      <th>Puntuacion</th>\n",
              "    </tr>\n",
              "  </thead>\n",
              "  <tbody>\n",
              "    <tr>\n",
              "      <th>0</th>\n",
              "      <td>just off the phone with the CEO of  Bitcoin\\n\\...</td>\n",
              "      <td>0.325000</td>\n",
              "      <td>Positivo</td>\n",
              "    </tr>\n",
              "    <tr>\n",
              "      <th>1</th>\n",
              "      <td>Amid Crypto price crash, avowed   cryptoevange...</td>\n",
              "      <td>0.000000</td>\n",
              "      <td>Neutro</td>\n",
              "    </tr>\n",
              "    <tr>\n",
              "      <th>2</th>\n",
              "      <td>\\nBTC price   28,139    22,846 \\n\\n35 54 Nak...</td>\n",
              "      <td>0.166667</td>\n",
              "      <td>Positivo</td>\n",
              "    </tr>\n",
              "    <tr>\n",
              "      <th>3</th>\n",
              "      <td>Today s news   a  CPI understates inflation...</td>\n",
              "      <td>-0.031250</td>\n",
              "      <td>Negativo</td>\n",
              "    </tr>\n",
              "    <tr>\n",
              "      <th>4</th>\n",
              "      <td>Price your life in fiat  You get poorer \\n\\...</td>\n",
              "      <td>0.000000</td>\n",
              "      <td>Neutro</td>\n",
              "    </tr>\n",
              "    <tr>\n",
              "      <th>...</th>\n",
              "      <td>...</td>\n",
              "      <td>...</td>\n",
              "      <td>...</td>\n",
              "    </tr>\n",
              "    <tr>\n",
              "      <th>5995</th>\n",
              "      <td>If this  Bitcoin bear market rhymes with hi...</td>\n",
              "      <td>0.000000</td>\n",
              "      <td>Neutro</td>\n",
              "    </tr>\n",
              "    <tr>\n",
              "      <th>5996</th>\n",
              "      <td>Current Price \\n Bitcoin  28,452 95\\n Litecoin...</td>\n",
              "      <td>0.000000</td>\n",
              "      <td>Neutro</td>\n",
              "    </tr>\n",
              "    <tr>\n",
              "      <th>5997</th>\n",
              "      <td>Price your life in fiat  You get poorer \\n\\...</td>\n",
              "      <td>0.000000</td>\n",
              "      <td>Neutro</td>\n",
              "    </tr>\n",
              "    <tr>\n",
              "      <th>5998</th>\n",
              "      <td>\\nBTC price   28,479    22,661 \\n\\n35 11 Nak...</td>\n",
              "      <td>0.166667</td>\n",
              "      <td>Positivo</td>\n",
              "    </tr>\n",
              "    <tr>\n",
              "      <th>5999</th>\n",
              "      <td>ETF, short for  exchange traded fund  is an...</td>\n",
              "      <td>0.000000</td>\n",
              "      <td>Neutro</td>\n",
              "    </tr>\n",
              "  </tbody>\n",
              "</table>\n",
              "<p>6000 rows × 3 columns</p>\n",
              "</div>\n",
              "      <button class=\"colab-df-convert\" onclick=\"convertToInteractive('df-bbd1e85e-5869-42ba-ba29-e5965163f9ff')\"\n",
              "              title=\"Convert this dataframe to an interactive table.\"\n",
              "              style=\"display:none;\">\n",
              "        \n",
              "  <svg xmlns=\"http://www.w3.org/2000/svg\" height=\"24px\"viewBox=\"0 0 24 24\"\n",
              "       width=\"24px\">\n",
              "    <path d=\"M0 0h24v24H0V0z\" fill=\"none\"/>\n",
              "    <path d=\"M18.56 5.44l.94 2.06.94-2.06 2.06-.94-2.06-.94-.94-2.06-.94 2.06-2.06.94zm-11 1L8.5 8.5l.94-2.06 2.06-.94-2.06-.94L8.5 2.5l-.94 2.06-2.06.94zm10 10l.94 2.06.94-2.06 2.06-.94-2.06-.94-.94-2.06-.94 2.06-2.06.94z\"/><path d=\"M17.41 7.96l-1.37-1.37c-.4-.4-.92-.59-1.43-.59-.52 0-1.04.2-1.43.59L10.3 9.45l-7.72 7.72c-.78.78-.78 2.05 0 2.83L4 21.41c.39.39.9.59 1.41.59.51 0 1.02-.2 1.41-.59l7.78-7.78 2.81-2.81c.8-.78.8-2.07 0-2.86zM5.41 20L4 18.59l7.72-7.72 1.47 1.35L5.41 20z\"/>\n",
              "  </svg>\n",
              "      </button>\n",
              "      \n",
              "  <style>\n",
              "    .colab-df-container {\n",
              "      display:flex;\n",
              "      flex-wrap:wrap;\n",
              "      gap: 12px;\n",
              "    }\n",
              "\n",
              "    .colab-df-convert {\n",
              "      background-color: #E8F0FE;\n",
              "      border: none;\n",
              "      border-radius: 50%;\n",
              "      cursor: pointer;\n",
              "      display: none;\n",
              "      fill: #1967D2;\n",
              "      height: 32px;\n",
              "      padding: 0 0 0 0;\n",
              "      width: 32px;\n",
              "    }\n",
              "\n",
              "    .colab-df-convert:hover {\n",
              "      background-color: #E2EBFA;\n",
              "      box-shadow: 0px 1px 2px rgba(60, 64, 67, 0.3), 0px 1px 3px 1px rgba(60, 64, 67, 0.15);\n",
              "      fill: #174EA6;\n",
              "    }\n",
              "\n",
              "    [theme=dark] .colab-df-convert {\n",
              "      background-color: #3B4455;\n",
              "      fill: #D2E3FC;\n",
              "    }\n",
              "\n",
              "    [theme=dark] .colab-df-convert:hover {\n",
              "      background-color: #434B5C;\n",
              "      box-shadow: 0px 1px 3px 1px rgba(0, 0, 0, 0.15);\n",
              "      filter: drop-shadow(0px 1px 2px rgba(0, 0, 0, 0.3));\n",
              "      fill: #FFFFFF;\n",
              "    }\n",
              "  </style>\n",
              "\n",
              "      <script>\n",
              "        const buttonEl =\n",
              "          document.querySelector('#df-bbd1e85e-5869-42ba-ba29-e5965163f9ff button.colab-df-convert');\n",
              "        buttonEl.style.display =\n",
              "          google.colab.kernel.accessAllowed ? 'block' : 'none';\n",
              "\n",
              "        async function convertToInteractive(key) {\n",
              "          const element = document.querySelector('#df-bbd1e85e-5869-42ba-ba29-e5965163f9ff');\n",
              "          const dataTable =\n",
              "            await google.colab.kernel.invokeFunction('convertToInteractive',\n",
              "                                                     [key], {});\n",
              "          if (!dataTable) return;\n",
              "\n",
              "          const docLinkHtml = 'Like what you see? Visit the ' +\n",
              "            '<a target=\"_blank\" href=https://colab.research.google.com/notebooks/data_table.ipynb>data table notebook</a>'\n",
              "            + ' to learn more about interactive tables.';\n",
              "          element.innerHTML = '';\n",
              "          dataTable['output_type'] = 'display_data';\n",
              "          await google.colab.output.renderOutput(dataTable, element);\n",
              "          const docLink = document.createElement('div');\n",
              "          docLink.innerHTML = docLinkHtml;\n",
              "          element.appendChild(docLink);\n",
              "        }\n",
              "      </script>\n",
              "    </div>\n",
              "  </div>\n",
              "  "
            ]
          },
          "metadata": {},
          "execution_count": 13
        }
      ],
      "source": [
        "#Se crea una función para analizar los tweets como positivos, negativos o neutros\n",
        "def getAnalysis(polaridad):\n",
        "  if polaridad < 0:\n",
        "     return \"Negativo\"\n",
        "  elif polaridad == 0:\n",
        "     return \"Neutro\"\n",
        "  else:\n",
        "     return \"Positivo\"\n",
        "\n",
        "df2['Puntuacion'] = df2['polaridad'].apply(getAnalysis)\n",
        "df2"
      ]
    },
    {
      "cell_type": "code",
      "execution_count": null,
      "metadata": {
        "colab": {
          "base_uri": "https://localhost:8080/"
        },
        "id": "3LcAbqt_FUFm",
        "outputId": "48fca083-34cc-4542-92e1-c91d2135fdf3"
      },
      "outputs": [
        {
          "output_type": "execute_result",
          "data": {
            "text/plain": [
              "Neutro      2800\n",
              "Negativo    1782\n",
              "Positivo    1418\n",
              "Name: Puntuacion, dtype: int64"
            ]
          },
          "metadata": {},
          "execution_count": 14
        }
      ],
      "source": [
        "df2[\"Puntuacion\"].value_counts()"
      ]
    },
    {
      "cell_type": "code",
      "execution_count": null,
      "metadata": {
        "id": "hbe-_UHwGgG9"
      },
      "outputs": [],
      "source": [
        "# Se obtiene el total de palabras presentes en el dataset\n",
        "list_of_words = []\n",
        "for i in df2['tweet_text']:\n",
        "    for j in i:\n",
        "        list_of_words.append(j)"
      ]
    },
    {
      "cell_type": "code",
      "execution_count": null,
      "metadata": {
        "colab": {
          "base_uri": "https://localhost:8080/"
        },
        "id": "JlYPJBjwJJ9_",
        "outputId": "de1bdb36-f779-4717-fb2a-5192250cbde0"
      },
      "outputs": [
        {
          "output_type": "execute_result",
          "data": {
            "text/plain": [
              "123"
            ]
          },
          "metadata": {},
          "execution_count": 16
        }
      ],
      "source": [
        "# Se obtiene el numero total de palabras unicas\n",
        "total_words = len(list(set(list_of_words)))\n",
        "total_words"
      ]
    },
    {
      "cell_type": "code",
      "source": [
        "#Se aplica TfidVectorizer\n",
        "import nltk\n",
        "nltk.download('stopwords')\n",
        "from nltk.corpus import stopwords\n",
        "from  nltk.corpus import stopwords\n",
        "from sklearn.feature_extraction.text import TfidfVectorizer\n",
        "\n",
        "vectorizer = TfidfVectorizer(max_features = 10000, min_df=7, max_df=0.8, stop_words=stopwords.words('english') )\n",
        "processed_features = vectorizer.fit_transform(df2['tweet_text']).toarray() \n"
      ],
      "metadata": {
        "colab": {
          "base_uri": "https://localhost:8080/"
        },
        "id": "ciyTo4RIg5xU",
        "outputId": "f9abf612-4997-4925-90ad-2312e9046593"
      },
      "execution_count": null,
      "outputs": [
        {
          "output_type": "stream",
          "name": "stdout",
          "text": [
            "[nltk_data] Downloading package stopwords to /root/nltk_data...\n",
            "[nltk_data]   Unzipping corpora/stopwords.zip.\n"
          ]
        }
      ]
    },
    {
      "cell_type": "code",
      "execution_count": null,
      "metadata": {
        "id": "XUROD8OTKEET"
      },
      "outputs": [],
      "source": [
        "# Se separan los datos de testeo y entrenamiento \n",
        "bitcoin_df=df2\n",
        "X = processed_features\n",
        "y = bitcoin_df['Puntuacion']\n",
        "\n",
        "from sklearn.model_selection import train_test_split\n",
        "X_train, X_test, y_train, y_test = train_test_split(X, y, test_size = 0.2, random_state=0)"
      ]
    },
    {
      "cell_type": "code",
      "source": [
        "#Se aplica y carga modelo Random Forest\n",
        "from sklearn.ensemble import RandomForestClassifier\n",
        "text_classifier = RandomForestClassifier(n_estimators=200, random_state=0)\n",
        "text_classifier.fit(X_train, y_train)"
      ],
      "metadata": {
        "colab": {
          "base_uri": "https://localhost:8080/"
        },
        "id": "kLIoc8SzZO1k",
        "outputId": "b5deb52b-fa6b-43e4-fa80-fff5d4d9d2ed"
      },
      "execution_count": null,
      "outputs": [
        {
          "output_type": "execute_result",
          "data": {
            "text/plain": [
              "RandomForestClassifier(n_estimators=200, random_state=0)"
            ]
          },
          "metadata": {},
          "execution_count": 19
        }
      ]
    },
    {
      "cell_type": "code",
      "source": [
        "predictions=text_classifier.predict(X_test)"
      ],
      "metadata": {
        "id": "ogjfXhIzo-L9"
      },
      "execution_count": null,
      "outputs": []
    },
    {
      "cell_type": "code",
      "source": [
        "from sklearn.metrics import classification_report, confusion_matrix, accuracy_score\n",
        "\n",
        "print(confusion_matrix(y_test,predictions))\n",
        "print(classification_report(y_test,predictions))\n",
        "print(accuracy_score(y_test,predictions))"
      ],
      "metadata": {
        "colab": {
          "base_uri": "https://localhost:8080/"
        },
        "id": "UBQVlDSqs_Pj",
        "outputId": "9ba8155a-5529-48a6-db86-7a33bc9744c5"
      },
      "execution_count": null,
      "outputs": [
        {
          "output_type": "stream",
          "name": "stdout",
          "text": [
            "[[301  32   9]\n",
            " [  2 556  15]\n",
            " [  5  44 236]]\n",
            "              precision    recall  f1-score   support\n",
            "\n",
            "    Negativo       0.98      0.88      0.93       342\n",
            "      Neutro       0.88      0.97      0.92       573\n",
            "    Positivo       0.91      0.83      0.87       285\n",
            "\n",
            "    accuracy                           0.91      1200\n",
            "   macro avg       0.92      0.89      0.91      1200\n",
            "weighted avg       0.91      0.91      0.91      1200\n",
            "\n",
            "0.9108333333333334\n"
          ]
        }
      ]
    },
    {
      "cell_type": "code",
      "source": [
        "#Se carga y aplica modelo SVM\n",
        "from sklearn import svm\n",
        "text_svm = svm.SVC(kernel='linear', probability=True)\n",
        "text_svm.fit(X_train, y_train)"
      ],
      "metadata": {
        "colab": {
          "base_uri": "https://localhost:8080/"
        },
        "id": "gSdPGhpBQVFz",
        "outputId": "53b12d2e-4e79-45e3-b031-fa3e2c4865bb"
      },
      "execution_count": null,
      "outputs": [
        {
          "output_type": "execute_result",
          "data": {
            "text/plain": [
              "SVC(kernel='linear', probability=True)"
            ]
          },
          "metadata": {},
          "execution_count": 22
        }
      ]
    },
    {
      "cell_type": "code",
      "source": [
        "predictions_svm=text_svm.predict(X_test)"
      ],
      "metadata": {
        "id": "hF5rUvMsTxbl"
      },
      "execution_count": null,
      "outputs": []
    },
    {
      "cell_type": "code",
      "source": [
        "print(confusion_matrix(y_test,predictions_svm))\n",
        "print(classification_report(y_test,predictions_svm))\n",
        "print(accuracy_score(y_test,predictions_svm))"
      ],
      "metadata": {
        "colab": {
          "base_uri": "https://localhost:8080/"
        },
        "id": "8C5W2fb-T8H0",
        "outputId": "66898b45-173b-478a-be9b-519bdad564e7"
      },
      "execution_count": null,
      "outputs": [
        {
          "output_type": "stream",
          "name": "stdout",
          "text": [
            "[[299  29  14]\n",
            " [  9 541  23]\n",
            " [  6  39 240]]\n",
            "              precision    recall  f1-score   support\n",
            "\n",
            "    Negativo       0.95      0.87      0.91       342\n",
            "      Neutro       0.89      0.94      0.92       573\n",
            "    Positivo       0.87      0.84      0.85       285\n",
            "\n",
            "    accuracy                           0.90      1200\n",
            "   macro avg       0.90      0.89      0.89      1200\n",
            "weighted avg       0.90      0.90      0.90      1200\n",
            "\n",
            "0.9\n"
          ]
        }
      ]
    },
    {
      "cell_type": "code",
      "source": [
        "#Se carga y aplica modelo regresión logistica multivariable\n",
        "from sklearn import linear_model\n",
        "from sklearn import model_selection\n",
        "\n",
        "text_logistic = linear_model.LogisticRegression()\n",
        "text_logistic.fit(X_train, y_train)"
      ],
      "metadata": {
        "colab": {
          "base_uri": "https://localhost:8080/"
        },
        "id": "eVMfM92qUs8c",
        "outputId": "9ff5c671-f25d-4644-a2fd-51abf388f45b"
      },
      "execution_count": null,
      "outputs": [
        {
          "output_type": "execute_result",
          "data": {
            "text/plain": [
              "LogisticRegression()"
            ]
          },
          "metadata": {},
          "execution_count": 25
        }
      ]
    },
    {
      "cell_type": "code",
      "source": [
        "predictions_logistic=text_logistic.predict(X_test)"
      ],
      "metadata": {
        "id": "5PJGI5ReWXew"
      },
      "execution_count": null,
      "outputs": []
    },
    {
      "cell_type": "code",
      "source": [
        "print(confusion_matrix(y_test,predictions_logistic))\n",
        "print(classification_report(y_test,predictions_logistic))\n",
        "print(accuracy_score(y_test,predictions_logistic))"
      ],
      "metadata": {
        "colab": {
          "base_uri": "https://localhost:8080/"
        },
        "id": "4s6GaAiEWkcZ",
        "outputId": "9fd5d249-4acf-492e-c30e-bb28a435fec4"
      },
      "execution_count": null,
      "outputs": [
        {
          "output_type": "stream",
          "name": "stdout",
          "text": [
            "[[295  29  18]\n",
            " [  7 539  27]\n",
            " [  5  51 229]]\n",
            "              precision    recall  f1-score   support\n",
            "\n",
            "    Negativo       0.96      0.86      0.91       342\n",
            "      Neutro       0.87      0.94      0.90       573\n",
            "    Positivo       0.84      0.80      0.82       285\n",
            "\n",
            "    accuracy                           0.89      1200\n",
            "   macro avg       0.89      0.87      0.88      1200\n",
            "weighted avg       0.89      0.89      0.89      1200\n",
            "\n",
            "0.8858333333333334\n"
          ]
        }
      ]
    },
    {
      "cell_type": "code",
      "source": [
        "from sklearn.naive_bayes import MultinomialNB\n",
        "\n",
        "text_naive = MultinomialNB().fit(X_train, y_train)\n",
        "predictions_naive=text_naive.predict(X_test)"
      ],
      "metadata": {
        "id": "3ldGtMRDWzYO"
      },
      "execution_count": null,
      "outputs": []
    },
    {
      "cell_type": "code",
      "source": [
        "print(confusion_matrix(y_test,predictions_naive))\n",
        "print(classification_report(y_test,predictions_naive))\n",
        "print(accuracy_score(y_test,predictions_naive))"
      ],
      "metadata": {
        "colab": {
          "base_uri": "https://localhost:8080/"
        },
        "id": "FpPoEzfhZYR6",
        "outputId": "90cf6bc3-fff0-48d6-8f98-16f68f1c611d"
      },
      "execution_count": null,
      "outputs": [
        {
          "output_type": "stream",
          "name": "stdout",
          "text": [
            "[[280  36  26]\n",
            " [  7 537  29]\n",
            " [  3  68 214]]\n",
            "              precision    recall  f1-score   support\n",
            "\n",
            "    Negativo       0.97      0.82      0.89       342\n",
            "      Neutro       0.84      0.94      0.88       573\n",
            "    Positivo       0.80      0.75      0.77       285\n",
            "\n",
            "    accuracy                           0.86      1200\n",
            "   macro avg       0.87      0.84      0.85      1200\n",
            "weighted avg       0.86      0.86      0.86      1200\n",
            "\n",
            "0.8591666666666666\n"
          ]
        }
      ]
    },
    {
      "cell_type": "code",
      "source": [
        "#Aplicando modelo LSTM\n",
        "\n",
        "# Tensorflow\n",
        "import tensorflow as tf\n",
        "from tensorflow.keras.preprocessing.text import one_hot,Tokenizer\n",
        "from tensorflow.keras.preprocessing.sequence import pad_sequences\n",
        "from tensorflow.keras.models import Sequential\n",
        "from tensorflow.keras.layers import Dense, Flatten, Embedding, Input, LSTM, Conv1D, MaxPool1D, Bidirectional, Dropout\n",
        "from tensorflow.keras.models import Model\n",
        "from tensorflow.keras.utils import to_categorical\n",
        "\n",
        "\n",
        "# Se separan los datos de testeo y entrenamiento \n",
        "\n",
        "bitcoin_lstm=df2\n",
        "\n",
        "X = bitcoin_lstm['tweet_text']\n",
        "y = pd.get_dummies(bitcoin_lstm['Puntuacion']).values\n",
        "\n",
        "print('Shape of label tensor:', y.shape)\n",
        "\n",
        "from sklearn.model_selection import train_test_split\n",
        "X_train, X_test, y_train, y_test = train_test_split(X, y, test_size = 0.1)\n"
      ],
      "metadata": {
        "id": "Yg4pw-foZ_LR",
        "colab": {
          "base_uri": "https://localhost:8080/"
        },
        "outputId": "94cb27ee-9289-42e0-96c7-ae47c34f6703"
      },
      "execution_count": null,
      "outputs": [
        {
          "output_type": "stream",
          "name": "stdout",
          "text": [
            "Shape of label tensor: (6000, 3)\n"
          ]
        }
      ]
    },
    {
      "cell_type": "code",
      "source": [
        "print(X_train.shape,y_train.shape)\n",
        "print(X_test.shape,y_test.shape)"
      ],
      "metadata": {
        "colab": {
          "base_uri": "https://localhost:8080/"
        },
        "id": "QsuLCwbbi-Bo",
        "outputId": "d8929621-0c25-4e2f-c7ee-a178d91f0ed3"
      },
      "execution_count": null,
      "outputs": [
        {
          "output_type": "stream",
          "name": "stdout",
          "text": [
            "(5400,) (5400, 3)\n",
            "(600,) (600, 3)\n"
          ]
        }
      ]
    },
    {
      "cell_type": "code",
      "source": [
        "\n",
        "# Create a tokenizer to tokenize the words and create sequences of tokenized words\n",
        "tokenizer = Tokenizer(num_words = total_words)\n",
        "tokenizer.fit_on_texts(X_train)\n",
        "\n",
        "# Training data\n",
        "train_sequences = tokenizer.texts_to_sequences(X_train)\n",
        "\n",
        "# Testing data\n",
        "test_sequences = tokenizer.texts_to_sequences(X_test)"
      ],
      "metadata": {
        "id": "8d2jh8iJcTjs"
      },
      "execution_count": null,
      "outputs": []
    },
    {
      "cell_type": "code",
      "source": [
        "print(\"El encoding por documento\\n\", X_train[1:2],\"\\n is: \", train_sequences[1])"
      ],
      "metadata": {
        "colab": {
          "base_uri": "https://localhost:8080/"
        },
        "id": "9W_fVK7_ccqU",
        "outputId": "6edef46f-e075-4c5b-f2ed-aca3195e6a94"
      },
      "execution_count": null,
      "outputs": [
        {
          "output_type": "stream",
          "name": "stdout",
          "text": [
            "El encoding por documento\n",
            " 3029       Crypto BloodBath Likely To Continue with Bi...\n",
            "Name: tweet_text, dtype: object \n",
            " is:  [25, 11, 68, 2, 1, 8, 116]\n"
          ]
        }
      ]
    },
    {
      "cell_type": "code",
      "source": [
        "# Añdiendo padding al training and testing\n",
        "padded_train = pad_sequences(train_sequences, maxlen = 29, padding = 'post', truncating = 'post')\n",
        "padded_test = pad_sequences(test_sequences, maxlen = 29, truncating = 'post')"
      ],
      "metadata": {
        "id": "yExoIubNcld7"
      },
      "execution_count": null,
      "outputs": []
    },
    {
      "cell_type": "code",
      "source": [
        "for i, doc in enumerate(padded_train[:3]):\n",
        "     print(\"The padded encoding for document:\", i+1,\" is:\", doc)"
      ],
      "metadata": {
        "colab": {
          "base_uri": "https://localhost:8080/"
        },
        "id": "QffarL_xcsDw",
        "outputId": "e2acb2eb-63d1-4ee3-c20f-5e32b57c7b7b"
      },
      "execution_count": null,
      "outputs": [
        {
          "output_type": "stream",
          "name": "stdout",
          "text": [
            "The padded encoding for document: 1  is: [ 2  1 13 59  0  0  0  0  0  0  0  0  0  0  0  0  0  0  0  0  0  0  0  0\n",
            "  0  0  0  0  0]\n",
            "The padded encoding for document: 2  is: [ 25  11  68   2   1   8 116   0   0   0   0   0   0   0   0   0   0   0\n",
            "   0   0   0   0   0   0   0   0   0   0   0]\n",
            "The padded encoding for document: 3  is: [25  2 70  1  4  0  0  0  0  0  0  0  0  0  0  0  0  0  0  0  0  0  0  0\n",
            "  0  0  0  0  0]\n"
          ]
        }
      ]
    },
    {
      "cell_type": "code",
      "source": [
        "# Sequential Model\n",
        "model = Sequential()\n",
        "\n",
        "# embedding layer\n",
        "model.add(Embedding(total_words, output_dim = 550))\n",
        "\n",
        "# Bi-Directional RNN y LSTM\n",
        "model.add(LSTM(300))\n",
        "\n",
        "# Dense layers\n",
        "model.add(Dense(128, activation = 'relu'))\n",
        "model.add(Dropout(0.3))\n",
        "model.add(Dense(3,activation = 'softmax'))\n",
        "model.compile(optimizer = 'adam', loss = 'categorical_crossentropy', metrics = ['acc'])\n",
        "model.summary()"
      ],
      "metadata": {
        "colab": {
          "base_uri": "https://localhost:8080/"
        },
        "id": "gQjgMdVGdDgU",
        "outputId": "e2dda259-b360-4dd6-aa65-91586e9a07e0"
      },
      "execution_count": null,
      "outputs": [
        {
          "output_type": "stream",
          "name": "stdout",
          "text": [
            "Model: \"sequential_5\"\n",
            "_________________________________________________________________\n",
            " Layer (type)                Output Shape              Param #   \n",
            "=================================================================\n",
            " embedding_5 (Embedding)     (None, None, 550)         67650     \n",
            "                                                                 \n",
            " lstm_5 (LSTM)               (None, 300)               1021200   \n",
            "                                                                 \n",
            " dense_10 (Dense)            (None, 128)               38528     \n",
            "                                                                 \n",
            " dropout_5 (Dropout)         (None, 128)               0         \n",
            "                                                                 \n",
            " dense_11 (Dense)            (None, 3)                 387       \n",
            "                                                                 \n",
            "=================================================================\n",
            "Total params: 1,127,765\n",
            "Trainable params: 1,127,765\n",
            "Non-trainable params: 0\n",
            "_________________________________________________________________\n"
          ]
        }
      ]
    },
    {
      "cell_type": "code",
      "source": [
        "model.fit(padded_train, y_train, batch_size = 32, validation_split = 0.2, epochs = 15)"
      ],
      "metadata": {
        "colab": {
          "base_uri": "https://localhost:8080/"
        },
        "id": "nL0reprUkAna",
        "outputId": "6d61f0be-d11e-46e6-af9d-71668e049395"
      },
      "execution_count": null,
      "outputs": [
        {
          "output_type": "stream",
          "name": "stdout",
          "text": [
            "Epoch 1/15\n",
            "135/135 [==============================] - 53s 364ms/step - loss: 0.7653 - acc: 0.6708 - val_loss: 0.5851 - val_acc: 0.7704\n",
            "Epoch 2/15\n",
            "135/135 [==============================] - 39s 289ms/step - loss: 0.5763 - acc: 0.7648 - val_loss: 0.5303 - val_acc: 0.7870\n",
            "Epoch 3/15\n",
            "135/135 [==============================] - 42s 308ms/step - loss: 0.5262 - acc: 0.7847 - val_loss: 0.5003 - val_acc: 0.7935\n",
            "Epoch 4/15\n",
            "135/135 [==============================] - 41s 301ms/step - loss: 0.5178 - acc: 0.7887 - val_loss: 0.5291 - val_acc: 0.7750\n",
            "Epoch 5/15\n",
            "135/135 [==============================] - 42s 311ms/step - loss: 0.4980 - acc: 0.7949 - val_loss: 0.4691 - val_acc: 0.8130\n",
            "Epoch 6/15\n",
            "135/135 [==============================] - 39s 292ms/step - loss: 0.4773 - acc: 0.8021 - val_loss: 0.4475 - val_acc: 0.8130\n",
            "Epoch 7/15\n",
            "135/135 [==============================] - 39s 287ms/step - loss: 0.4474 - acc: 0.8146 - val_loss: 0.4358 - val_acc: 0.8167\n",
            "Epoch 8/15\n",
            "135/135 [==============================] - 39s 286ms/step - loss: 0.4292 - acc: 0.8206 - val_loss: 0.4284 - val_acc: 0.8324\n",
            "Epoch 9/15\n",
            "135/135 [==============================] - 38s 282ms/step - loss: 0.3994 - acc: 0.8354 - val_loss: 0.4065 - val_acc: 0.8389\n",
            "Epoch 10/15\n",
            "135/135 [==============================] - 39s 293ms/step - loss: 0.3800 - acc: 0.8449 - val_loss: 0.4137 - val_acc: 0.8296\n",
            "Epoch 11/15\n",
            "135/135 [==============================] - 38s 283ms/step - loss: 0.3662 - acc: 0.8495 - val_loss: 0.3936 - val_acc: 0.8528\n",
            "Epoch 12/15\n",
            "135/135 [==============================] - 38s 281ms/step - loss: 0.3406 - acc: 0.8637 - val_loss: 0.3734 - val_acc: 0.8509\n",
            "Epoch 13/15\n",
            "135/135 [==============================] - 38s 281ms/step - loss: 0.3404 - acc: 0.8632 - val_loss: 0.3879 - val_acc: 0.8435\n",
            "Epoch 14/15\n",
            "135/135 [==============================] - 38s 283ms/step - loss: 0.3256 - acc: 0.8674 - val_loss: 0.3859 - val_acc: 0.8602\n",
            "Epoch 15/15\n",
            "135/135 [==============================] - 39s 287ms/step - loss: 0.2990 - acc: 0.8794 - val_loss: 0.3704 - val_acc: 0.8731\n"
          ]
        },
        {
          "output_type": "execute_result",
          "data": {
            "text/plain": [
              "<keras.callbacks.History at 0x7f669e723910>"
            ]
          },
          "metadata": {},
          "execution_count": 59
        }
      ]
    },
    {
      "cell_type": "code",
      "source": [
        "# Haciendo Predicción\n",
        "pred = model.predict(padded_test)"
      ],
      "metadata": {
        "id": "tViYqEoIoZ8o"
      },
      "execution_count": null,
      "outputs": []
    },
    {
      "cell_type": "code",
      "source": [
        "prediction = []\n",
        "for i in pred:\n",
        "  prediction.append(np.argmax(i))"
      ],
      "metadata": {
        "id": "q-_qe_Vzok1E"
      },
      "execution_count": null,
      "outputs": []
    },
    {
      "cell_type": "code",
      "source": [
        "# Valores originales contenidos en la lista\n",
        "original = []\n",
        "for i in y_test:\n",
        "  original.append(np.argmax(i))"
      ],
      "metadata": {
        "id": "NKRgQYLyoqLt"
      },
      "execution_count": null,
      "outputs": []
    },
    {
      "cell_type": "code",
      "source": [
        "print(confusion_matrix(original,prediction))\n",
        "print(classification_report(original,prediction))\n",
        "print(accuracy_score(original,prediction))"
      ],
      "metadata": {
        "colab": {
          "base_uri": "https://localhost:8080/"
        },
        "id": "hyVZTa2ug5fe",
        "outputId": "89888cd9-373d-4798-8615-42c865030e96"
      },
      "execution_count": null,
      "outputs": [
        {
          "output_type": "stream",
          "name": "stdout",
          "text": [
            "[[118  21  20]\n",
            " [ 21 251  28]\n",
            " [  6  30 105]]\n",
            "              precision    recall  f1-score   support\n",
            "\n",
            "           0       0.81      0.74      0.78       159\n",
            "           1       0.83      0.84      0.83       300\n",
            "           2       0.69      0.74      0.71       141\n",
            "\n",
            "    accuracy                           0.79       600\n",
            "   macro avg       0.78      0.77      0.77       600\n",
            "weighted avg       0.79      0.79      0.79       600\n",
            "\n",
            "0.79\n"
          ]
        }
      ]
    }
  ],
  "metadata": {
    "colab": {
      "collapsed_sections": [],
      "name": "Random_Forest.ipynb",
      "provenance": []
    },
    "kernelspec": {
      "display_name": "Python 3",
      "name": "python3"
    },
    "language_info": {
      "name": "python"
    }
  },
  "nbformat": 4,
  "nbformat_minor": 0
}