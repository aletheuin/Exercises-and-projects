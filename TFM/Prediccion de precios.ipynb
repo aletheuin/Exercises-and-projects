{
 "cells": [
  {
   "cell_type": "code",
   "execution_count": 1,
   "id": "78cd32b2",
   "metadata": {
    "_cell_guid": "b1076dfc-b9ad-4769-8c92-a6c4dae69d19",
    "_uuid": "8f2839f25d086af736a60e9eeb907d3b93b6e0e5",
    "execution": {
     "iopub.execute_input": "2022-07-27T21:28:01.015491Z",
     "iopub.status.busy": "2022-07-27T21:28:01.014020Z",
     "iopub.status.idle": "2022-07-27T21:28:01.803671Z",
     "shell.execute_reply": "2022-07-27T21:28:01.804109Z",
     "shell.execute_reply.started": "2022-07-27T21:12:40.522198Z"
    },
    "papermill": {
     "duration": 0.823714,
     "end_time": "2022-07-27T21:28:01.804354",
     "exception": false,
     "start_time": "2022-07-27T21:28:00.980640",
     "status": "completed"
    },
    "tags": []
   },
   "outputs": [
    {
     "name": "stdout",
     "output_type": "stream",
     "text": [
      "/kaggle/input/g-research-crypto-forecasting/example_sample_submission.csv\n",
      "/kaggle/input/g-research-crypto-forecasting/asset_details.csv\n",
      "/kaggle/input/g-research-crypto-forecasting/example_test.csv\n",
      "/kaggle/input/g-research-crypto-forecasting/train.csv\n",
      "/kaggle/input/g-research-crypto-forecasting/supplemental_train.csv\n",
      "/kaggle/input/g-research-crypto-forecasting/gresearch_crypto/competition.cpython-37m-x86_64-linux-gnu.so\n",
      "/kaggle/input/g-research-crypto-forecasting/gresearch_crypto/__init__.py\n"
     ]
    }
   ],
   "source": [
    "import seaborn as sns\n",
    "from datetime import datetime\n",
    "import numpy as np # linear algebra\n",
    "import pandas as pd # data processing, CSV file I/O (e.g. pd.read_csv)\n",
    "import os\n",
    "for dirname, _, filenames in os.walk('/kaggle/input'):\n",
    "    for filename in filenames:\n",
    "        print(os.path.join(dirname, filename))\n",
    "\n"
   ]
  },
  {
   "cell_type": "markdown",
   "id": "b0cc0589",
   "metadata": {
    "papermill": {
     "duration": 0.028469,
     "end_time": "2022-07-27T21:28:01.863862",
     "exception": false,
     "start_time": "2022-07-27T21:28:01.835393",
     "status": "completed"
    },
    "tags": []
   },
   "source": [
    "# 1. Leer los datos\n",
    "\n",
    "Leer los datasets desde 'g-research-crypto-forecasting datasets"
   ]
  },
  {
   "cell_type": "code",
   "execution_count": 2,
   "id": "8931106e",
   "metadata": {
    "execution": {
     "iopub.execute_input": "2022-07-27T21:28:01.925235Z",
     "iopub.status.busy": "2022-07-27T21:28:01.924459Z",
     "iopub.status.idle": "2022-07-27T21:28:55.431922Z",
     "shell.execute_reply": "2022-07-27T21:28:55.431010Z",
     "shell.execute_reply.started": "2022-07-27T21:12:40.944869Z"
    },
    "papermill": {
     "duration": 53.539862,
     "end_time": "2022-07-27T21:28:55.432082",
     "exception": false,
     "start_time": "2022-07-27T21:28:01.892220",
     "status": "completed"
    },
    "tags": []
   },
   "outputs": [],
   "source": [
    "train_data = pd.read_csv('/kaggle/input/g-research-crypto-forecasting/train.csv')\n",
    "asset_ID = pd.read_csv('/kaggle/input/g-research-crypto-forecasting/asset_details.csv')"
   ]
  },
  {
   "cell_type": "code",
   "execution_count": 3,
   "id": "a328a4e2",
   "metadata": {
    "execution": {
     "iopub.execute_input": "2022-07-27T21:28:55.497542Z",
     "iopub.status.busy": "2022-07-27T21:28:55.496916Z",
     "iopub.status.idle": "2022-07-27T21:28:55.508721Z",
     "shell.execute_reply": "2022-07-27T21:28:55.509258Z",
     "shell.execute_reply.started": "2022-07-27T21:13:13.273006Z"
    },
    "papermill": {
     "duration": 0.04754,
     "end_time": "2022-07-27T21:28:55.509441",
     "exception": false,
     "start_time": "2022-07-27T21:28:55.461901",
     "status": "completed"
    },
    "tags": []
   },
   "outputs": [
    {
     "data": {
      "text/html": [
       "<div>\n",
       "<style scoped>\n",
       "    .dataframe tbody tr th:only-of-type {\n",
       "        vertical-align: middle;\n",
       "    }\n",
       "\n",
       "    .dataframe tbody tr th {\n",
       "        vertical-align: top;\n",
       "    }\n",
       "\n",
       "    .dataframe thead th {\n",
       "        text-align: right;\n",
       "    }\n",
       "</style>\n",
       "<table border=\"1\" class=\"dataframe\">\n",
       "  <thead>\n",
       "    <tr style=\"text-align: right;\">\n",
       "      <th></th>\n",
       "      <th>Asset_ID</th>\n",
       "      <th>Weight</th>\n",
       "      <th>Asset_Name</th>\n",
       "    </tr>\n",
       "  </thead>\n",
       "  <tbody>\n",
       "    <tr>\n",
       "      <th>0</th>\n",
       "      <td>2</td>\n",
       "      <td>2.397895</td>\n",
       "      <td>Bitcoin Cash</td>\n",
       "    </tr>\n",
       "    <tr>\n",
       "      <th>1</th>\n",
       "      <td>0</td>\n",
       "      <td>4.304065</td>\n",
       "      <td>Binance Coin</td>\n",
       "    </tr>\n",
       "    <tr>\n",
       "      <th>2</th>\n",
       "      <td>1</td>\n",
       "      <td>6.779922</td>\n",
       "      <td>Bitcoin</td>\n",
       "    </tr>\n",
       "    <tr>\n",
       "      <th>3</th>\n",
       "      <td>5</td>\n",
       "      <td>1.386294</td>\n",
       "      <td>EOS.IO</td>\n",
       "    </tr>\n",
       "    <tr>\n",
       "      <th>4</th>\n",
       "      <td>7</td>\n",
       "      <td>2.079442</td>\n",
       "      <td>Ethereum Classic</td>\n",
       "    </tr>\n",
       "    <tr>\n",
       "      <th>5</th>\n",
       "      <td>6</td>\n",
       "      <td>5.894403</td>\n",
       "      <td>Ethereum</td>\n",
       "    </tr>\n",
       "    <tr>\n",
       "      <th>6</th>\n",
       "      <td>9</td>\n",
       "      <td>2.397895</td>\n",
       "      <td>Litecoin</td>\n",
       "    </tr>\n",
       "    <tr>\n",
       "      <th>7</th>\n",
       "      <td>11</td>\n",
       "      <td>1.609438</td>\n",
       "      <td>Monero</td>\n",
       "    </tr>\n",
       "    <tr>\n",
       "      <th>8</th>\n",
       "      <td>13</td>\n",
       "      <td>1.791759</td>\n",
       "      <td>TRON</td>\n",
       "    </tr>\n",
       "    <tr>\n",
       "      <th>9</th>\n",
       "      <td>12</td>\n",
       "      <td>2.079442</td>\n",
       "      <td>Stellar</td>\n",
       "    </tr>\n",
       "    <tr>\n",
       "      <th>10</th>\n",
       "      <td>3</td>\n",
       "      <td>4.406719</td>\n",
       "      <td>Cardano</td>\n",
       "    </tr>\n",
       "    <tr>\n",
       "      <th>11</th>\n",
       "      <td>8</td>\n",
       "      <td>1.098612</td>\n",
       "      <td>IOTA</td>\n",
       "    </tr>\n",
       "    <tr>\n",
       "      <th>12</th>\n",
       "      <td>10</td>\n",
       "      <td>1.098612</td>\n",
       "      <td>Maker</td>\n",
       "    </tr>\n",
       "    <tr>\n",
       "      <th>13</th>\n",
       "      <td>4</td>\n",
       "      <td>3.555348</td>\n",
       "      <td>Dogecoin</td>\n",
       "    </tr>\n",
       "  </tbody>\n",
       "</table>\n",
       "</div>"
      ],
      "text/plain": [
       "    Asset_ID    Weight        Asset_Name\n",
       "0          2  2.397895      Bitcoin Cash\n",
       "1          0  4.304065      Binance Coin\n",
       "2          1  6.779922           Bitcoin\n",
       "3          5  1.386294            EOS.IO\n",
       "4          7  2.079442  Ethereum Classic\n",
       "5          6  5.894403          Ethereum\n",
       "6          9  2.397895          Litecoin\n",
       "7         11  1.609438            Monero\n",
       "8         13  1.791759              TRON\n",
       "9         12  2.079442           Stellar\n",
       "10         3  4.406719           Cardano\n",
       "11         8  1.098612              IOTA\n",
       "12        10  1.098612             Maker\n",
       "13         4  3.555348          Dogecoin"
      ]
     },
     "execution_count": 3,
     "metadata": {},
     "output_type": "execute_result"
    }
   ],
   "source": [
    "asset_ID"
   ]
  },
  {
   "cell_type": "markdown",
   "id": "fd48d382",
   "metadata": {
    "papermill": {
     "duration": 0.02925,
     "end_time": "2022-07-27T21:28:55.568366",
     "exception": false,
     "start_time": "2022-07-27T21:28:55.539116",
     "status": "completed"
    },
    "tags": []
   },
   "source": [
    "# **2. Explorando los datos**\n",
    "Se selecciona el Bitcoin. El Bitcoin es Asset_ID == 1"
   ]
  },
  {
   "cell_type": "code",
   "execution_count": 4,
   "id": "c19b638a",
   "metadata": {
    "execution": {
     "iopub.execute_input": "2022-07-27T21:28:55.647090Z",
     "iopub.status.busy": "2022-07-27T21:28:55.646266Z",
     "iopub.status.idle": "2022-07-27T21:28:55.960620Z",
     "shell.execute_reply": "2022-07-27T21:28:55.961313Z",
     "shell.execute_reply.started": "2022-07-27T21:13:13.291681Z"
    },
    "papermill": {
     "duration": 0.363235,
     "end_time": "2022-07-27T21:28:55.961479",
     "exception": false,
     "start_time": "2022-07-27T21:28:55.598244",
     "status": "completed"
    },
    "tags": []
   },
   "outputs": [
    {
     "data": {
      "text/html": [
       "<div>\n",
       "<style scoped>\n",
       "    .dataframe tbody tr th:only-of-type {\n",
       "        vertical-align: middle;\n",
       "    }\n",
       "\n",
       "    .dataframe tbody tr th {\n",
       "        vertical-align: top;\n",
       "    }\n",
       "\n",
       "    .dataframe thead th {\n",
       "        text-align: right;\n",
       "    }\n",
       "</style>\n",
       "<table border=\"1\" class=\"dataframe\">\n",
       "  <thead>\n",
       "    <tr style=\"text-align: right;\">\n",
       "      <th></th>\n",
       "      <th>timestamp</th>\n",
       "      <th>Asset_ID</th>\n",
       "      <th>Count</th>\n",
       "      <th>Open</th>\n",
       "      <th>High</th>\n",
       "      <th>Low</th>\n",
       "      <th>Close</th>\n",
       "      <th>Volume</th>\n",
       "      <th>VWAP</th>\n",
       "      <th>Target</th>\n",
       "    </tr>\n",
       "  </thead>\n",
       "  <tbody>\n",
       "    <tr>\n",
       "      <th>2</th>\n",
       "      <td>1514764860</td>\n",
       "      <td>1</td>\n",
       "      <td>229.0</td>\n",
       "      <td>13835.194</td>\n",
       "      <td>14013.8</td>\n",
       "      <td>13666.11</td>\n",
       "      <td>13850.176</td>\n",
       "      <td>31.550062</td>\n",
       "      <td>13827.062093</td>\n",
       "      <td>-0.014643</td>\n",
       "    </tr>\n",
       "    <tr>\n",
       "      <th>10</th>\n",
       "      <td>1514764920</td>\n",
       "      <td>1</td>\n",
       "      <td>235.0</td>\n",
       "      <td>13835.036</td>\n",
       "      <td>14052.3</td>\n",
       "      <td>13680.00</td>\n",
       "      <td>13828.102</td>\n",
       "      <td>31.046432</td>\n",
       "      <td>13840.362591</td>\n",
       "      <td>-0.015037</td>\n",
       "    </tr>\n",
       "    <tr>\n",
       "      <th>18</th>\n",
       "      <td>1514764980</td>\n",
       "      <td>1</td>\n",
       "      <td>528.0</td>\n",
       "      <td>13823.900</td>\n",
       "      <td>14000.4</td>\n",
       "      <td>13601.00</td>\n",
       "      <td>13801.314</td>\n",
       "      <td>55.061820</td>\n",
       "      <td>13806.068014</td>\n",
       "      <td>-0.010309</td>\n",
       "    </tr>\n",
       "    <tr>\n",
       "      <th>26</th>\n",
       "      <td>1514765040</td>\n",
       "      <td>1</td>\n",
       "      <td>435.0</td>\n",
       "      <td>13802.512</td>\n",
       "      <td>13999.0</td>\n",
       "      <td>13576.28</td>\n",
       "      <td>13768.040</td>\n",
       "      <td>38.780529</td>\n",
       "      <td>13783.598101</td>\n",
       "      <td>-0.008999</td>\n",
       "    </tr>\n",
       "    <tr>\n",
       "      <th>34</th>\n",
       "      <td>1514765100</td>\n",
       "      <td>1</td>\n",
       "      <td>742.0</td>\n",
       "      <td>13766.000</td>\n",
       "      <td>13955.9</td>\n",
       "      <td>13554.44</td>\n",
       "      <td>13724.914</td>\n",
       "      <td>108.501637</td>\n",
       "      <td>13735.586842</td>\n",
       "      <td>-0.008079</td>\n",
       "    </tr>\n",
       "    <tr>\n",
       "      <th>42</th>\n",
       "      <td>1514765160</td>\n",
       "      <td>1</td>\n",
       "      <td>554.0</td>\n",
       "      <td>13717.714</td>\n",
       "      <td>14000.7</td>\n",
       "      <td>13520.00</td>\n",
       "      <td>13717.112</td>\n",
       "      <td>70.805776</td>\n",
       "      <td>13706.952030</td>\n",
       "      <td>-0.004422</td>\n",
       "    </tr>\n",
       "    <tr>\n",
       "      <th>50</th>\n",
       "      <td>1514765220</td>\n",
       "      <td>1</td>\n",
       "      <td>546.0</td>\n",
       "      <td>13720.922</td>\n",
       "      <td>14001.4</td>\n",
       "      <td>13501.01</td>\n",
       "      <td>13670.940</td>\n",
       "      <td>70.762103</td>\n",
       "      <td>13683.843336</td>\n",
       "      <td>-0.008873</td>\n",
       "    </tr>\n",
       "    <tr>\n",
       "      <th>58</th>\n",
       "      <td>1514765280</td>\n",
       "      <td>1</td>\n",
       "      <td>437.0</td>\n",
       "      <td>13669.246</td>\n",
       "      <td>13914.6</td>\n",
       "      <td>13504.99</td>\n",
       "      <td>13721.348</td>\n",
       "      <td>78.298555</td>\n",
       "      <td>13701.600413</td>\n",
       "      <td>-0.008492</td>\n",
       "    </tr>\n",
       "    <tr>\n",
       "      <th>66</th>\n",
       "      <td>1514765340</td>\n",
       "      <td>1</td>\n",
       "      <td>288.0</td>\n",
       "      <td>13713.412</td>\n",
       "      <td>13948.9</td>\n",
       "      <td>13539.99</td>\n",
       "      <td>13720.260</td>\n",
       "      <td>60.100796</td>\n",
       "      <td>13720.524584</td>\n",
       "      <td>-0.006282</td>\n",
       "    </tr>\n",
       "    <tr>\n",
       "      <th>74</th>\n",
       "      <td>1514765400</td>\n",
       "      <td>1</td>\n",
       "      <td>270.0</td>\n",
       "      <td>13713.610</td>\n",
       "      <td>13948.5</td>\n",
       "      <td>13530.00</td>\n",
       "      <td>13719.902</td>\n",
       "      <td>56.578007</td>\n",
       "      <td>13711.904983</td>\n",
       "      <td>-0.003889</td>\n",
       "    </tr>\n",
       "  </tbody>\n",
       "</table>\n",
       "</div>"
      ],
      "text/plain": [
       "     timestamp  Asset_ID  Count       Open     High       Low      Close  \\\n",
       "2   1514764860         1  229.0  13835.194  14013.8  13666.11  13850.176   \n",
       "10  1514764920         1  235.0  13835.036  14052.3  13680.00  13828.102   \n",
       "18  1514764980         1  528.0  13823.900  14000.4  13601.00  13801.314   \n",
       "26  1514765040         1  435.0  13802.512  13999.0  13576.28  13768.040   \n",
       "34  1514765100         1  742.0  13766.000  13955.9  13554.44  13724.914   \n",
       "42  1514765160         1  554.0  13717.714  14000.7  13520.00  13717.112   \n",
       "50  1514765220         1  546.0  13720.922  14001.4  13501.01  13670.940   \n",
       "58  1514765280         1  437.0  13669.246  13914.6  13504.99  13721.348   \n",
       "66  1514765340         1  288.0  13713.412  13948.9  13539.99  13720.260   \n",
       "74  1514765400         1  270.0  13713.610  13948.5  13530.00  13719.902   \n",
       "\n",
       "        Volume          VWAP    Target  \n",
       "2    31.550062  13827.062093 -0.014643  \n",
       "10   31.046432  13840.362591 -0.015037  \n",
       "18   55.061820  13806.068014 -0.010309  \n",
       "26   38.780529  13783.598101 -0.008999  \n",
       "34  108.501637  13735.586842 -0.008079  \n",
       "42   70.805776  13706.952030 -0.004422  \n",
       "50   70.762103  13683.843336 -0.008873  \n",
       "58   78.298555  13701.600413 -0.008492  \n",
       "66   60.100796  13720.524584 -0.006282  \n",
       "74   56.578007  13711.904983 -0.003889  "
      ]
     },
     "execution_count": 4,
     "metadata": {},
     "output_type": "execute_result"
    }
   ],
   "source": [
    "Bitcoin = train_data[train_data['Asset_ID'] == 1]\n",
    "\n",
    "Bitcoin.head(10)"
   ]
  },
  {
   "cell_type": "code",
   "execution_count": 5,
   "id": "98a02f9e",
   "metadata": {
    "execution": {
     "iopub.execute_input": "2022-07-27T21:28:56.026515Z",
     "iopub.status.busy": "2022-07-27T21:28:56.025565Z",
     "iopub.status.idle": "2022-07-27T21:28:56.611562Z",
     "shell.execute_reply": "2022-07-27T21:28:56.610573Z",
     "shell.execute_reply.started": "2022-07-27T21:13:13.623222Z"
    },
    "papermill": {
     "duration": 0.619608,
     "end_time": "2022-07-27T21:28:56.611718",
     "exception": false,
     "start_time": "2022-07-27T21:28:55.992110",
     "status": "completed"
    },
    "tags": []
   },
   "outputs": [],
   "source": [
    "correlation=Bitcoin.corr()"
   ]
  },
  {
   "cell_type": "code",
   "execution_count": 6,
   "id": "a20fe57c",
   "metadata": {
    "execution": {
     "iopub.execute_input": "2022-07-27T21:28:56.679299Z",
     "iopub.status.busy": "2022-07-27T21:28:56.678773Z",
     "iopub.status.idle": "2022-07-27T21:28:57.231938Z",
     "shell.execute_reply": "2022-07-27T21:28:57.232320Z",
     "shell.execute_reply.started": "2022-07-27T21:13:14.242978Z"
    },
    "papermill": {
     "duration": 0.591237,
     "end_time": "2022-07-27T21:28:57.232492",
     "exception": false,
     "start_time": "2022-07-27T21:28:56.641255",
     "status": "completed"
    },
    "tags": []
   },
   "outputs": [
    {
     "data": {
      "image/png": "[encoded data removed]",
      "text/plain": [
       "<Figure size 720x720 with 2 Axes>"
      ]
     },
     "metadata": {
      "needs_background": "light"
     },
     "output_type": "display_data"
    }
   ],
   "source": [
    "import matplotlib.pyplot as plt\n",
    "\n",
    "plt.figure(figsize=(10,10))\n",
    "ax = sns.heatmap(correlation, vmax=1, square=True, annot=True, cmap='viridis')\n",
    "plt.title = 'Matriz de Correlación'\n",
    "plt.show()"
   ]
  },
  {
   "cell_type": "code",
   "execution_count": 7,
   "id": "a76a4b1b",
   "metadata": {
    "execution": {
     "iopub.execute_input": "2022-07-27T21:28:57.298914Z",
     "iopub.status.busy": "2022-07-27T21:28:57.297879Z",
     "iopub.status.idle": "2022-07-27T21:28:57.598262Z",
     "shell.execute_reply": "2022-07-27T21:28:57.598735Z",
     "shell.execute_reply.started": "2022-07-27T21:13:15.023278Z"
    },
    "papermill": {
     "duration": 0.33562,
     "end_time": "2022-07-27T21:28:57.598887",
     "exception": false,
     "start_time": "2022-07-27T21:28:57.263267",
     "status": "completed"
    },
    "tags": []
   },
   "outputs": [
    {
     "data": {
      "text/plain": [
       "timestamp   -0.000042\n",
       "Asset_ID     0.000000\n",
       "Count        7.245120\n",
       "Open         1.663233\n",
       "High         1.664121\n",
       "Low          1.663196\n",
       "Close        1.663229\n",
       "Volume       9.628004\n",
       "VWAP         1.663232\n",
       "Target       1.429659\n",
       "dtype: float64"
      ]
     },
     "execution_count": 7,
     "metadata": {},
     "output_type": "execute_result"
    }
   ],
   "source": [
    "Bitcoin.skew()"
   ]
  },
  {
   "cell_type": "code",
   "execution_count": 8,
   "id": "8ff558ed",
   "metadata": {
    "execution": {
     "iopub.execute_input": "2022-07-27T21:28:57.666557Z",
     "iopub.status.busy": "2022-07-27T21:28:57.665638Z",
     "iopub.status.idle": "2022-07-27T21:28:57.703136Z",
     "shell.execute_reply": "2022-07-27T21:28:57.703535Z",
     "shell.execute_reply.started": "2022-07-27T21:13:15.335537Z"
    },
    "papermill": {
     "duration": 0.072859,
     "end_time": "2022-07-27T21:28:57.703701",
     "exception": false,
     "start_time": "2022-07-27T21:28:57.630842",
     "status": "completed"
    },
    "tags": []
   },
   "outputs": [
    {
     "data": {
      "text/plain": [
       "timestamp      0\n",
       "Asset_ID       0\n",
       "Count          0\n",
       "Open           0\n",
       "High           0\n",
       "Low            0\n",
       "Close          0\n",
       "Volume         0\n",
       "VWAP           0\n",
       "Target       304\n",
       "dtype: int64"
      ]
     },
     "execution_count": 8,
     "metadata": {},
     "output_type": "execute_result"
    }
   ],
   "source": [
    "Bitcoin.isnull().sum()"
   ]
  },
  {
   "cell_type": "markdown",
   "id": "0943386a",
   "metadata": {
    "papermill": {
     "duration": 0.031302,
     "end_time": "2022-07-27T21:28:57.766235",
     "exception": false,
     "start_time": "2022-07-27T21:28:57.734933",
     "status": "completed"
    },
    "tags": []
   },
   "source": [
    "Los datos que faltan, para un minuto dado, no están representados por NaN, sino por la ausencia de filas. Podemos verificar la diferencia de marca de tiempo entre filas consecutivas para ver si faltan datos."
   ]
  },
  {
   "cell_type": "code",
   "execution_count": 9,
   "id": "1aa4fe2c",
   "metadata": {
    "execution": {
     "iopub.execute_input": "2022-07-27T21:28:57.833499Z",
     "iopub.status.busy": "2022-07-27T21:28:57.832224Z",
     "iopub.status.idle": "2022-07-27T21:28:57.856626Z",
     "shell.execute_reply": "2022-07-27T21:28:57.857108Z",
     "shell.execute_reply.started": "2022-07-27T21:13:15.378674Z"
    },
    "papermill": {
     "duration": 0.060191,
     "end_time": "2022-07-27T21:28:57.857260",
     "exception": false,
     "start_time": "2022-07-27T21:28:57.797069",
     "status": "completed"
    },
    "tags": []
   },
   "outputs": [
    {
     "data": {
      "text/plain": [
       "14    596514\n",
       "12    495202\n",
       "13    443611\n",
       "11    214273\n",
       "8      78696\n",
       "dtype: int64"
      ]
     },
     "execution_count": 9,
     "metadata": {},
     "output_type": "execute_result"
    }
   ],
   "source": [
    "(Bitcoin.index[1:]-Bitcoin.index[:-1]).value_counts().head()"
   ]
  },
  {
   "cell_type": "markdown",
   "id": "1a993ad9",
   "metadata": {
    "papermill": {
     "duration": 0.031248,
     "end_time": "2022-07-27T21:28:57.919956",
     "exception": false,
     "start_time": "2022-07-27T21:28:57.888708",
     "status": "completed"
    },
    "tags": []
   },
   "source": [
    "# **3. Limpieza de datos**\n",
    "Se eliminan los valores nulos."
   ]
  },
  {
   "cell_type": "code",
   "execution_count": 10,
   "id": "d23ff57a",
   "metadata": {
    "execution": {
     "iopub.execute_input": "2022-07-27T21:28:57.987891Z",
     "iopub.status.busy": "2022-07-27T21:28:57.987108Z",
     "iopub.status.idle": "2022-07-27T21:28:58.221785Z",
     "shell.execute_reply": "2022-07-27T21:28:58.221249Z",
     "shell.execute_reply.started": "2022-07-27T21:13:15.411740Z"
    },
    "papermill": {
     "duration": 0.270496,
     "end_time": "2022-07-27T21:28:58.221922",
     "exception": false,
     "start_time": "2022-07-27T21:28:57.951426",
     "status": "completed"
    },
    "tags": []
   },
   "outputs": [],
   "source": [
    "Bitcoin = Bitcoin.reindex(range(Bitcoin.index[0], Bitcoin.index[-1], 60), method = 'pad')"
   ]
  },
  {
   "cell_type": "code",
   "execution_count": 11,
   "id": "e31e21e8",
   "metadata": {
    "execution": {
     "iopub.execute_input": "2022-07-27T21:28:58.289508Z",
     "iopub.status.busy": "2022-07-27T21:28:58.288512Z",
     "iopub.status.idle": "2022-07-27T21:28:58.302500Z",
     "shell.execute_reply": "2022-07-27T21:28:58.301962Z",
     "shell.execute_reply.started": "2022-07-27T21:13:15.659347Z"
    },
    "papermill": {
     "duration": 0.048927,
     "end_time": "2022-07-27T21:28:58.302626",
     "exception": false,
     "start_time": "2022-07-27T21:28:58.253699",
     "status": "completed"
    },
    "tags": []
   },
   "outputs": [],
   "source": [
    "Bit_coin = Bitcoin.copy()"
   ]
  },
  {
   "cell_type": "code",
   "execution_count": 12,
   "id": "f88503ee",
   "metadata": {
    "execution": {
     "iopub.execute_input": "2022-07-27T21:28:58.368268Z",
     "iopub.status.busy": "2022-07-27T21:28:58.367366Z",
     "iopub.status.idle": "2022-07-27T21:28:58.374347Z",
     "shell.execute_reply": "2022-07-27T21:28:58.373909Z",
     "shell.execute_reply.started": "2022-07-27T21:13:15.677293Z"
    },
    "papermill": {
     "duration": 0.040534,
     "end_time": "2022-07-27T21:28:58.374492",
     "exception": false,
     "start_time": "2022-07-27T21:28:58.333958",
     "status": "completed"
    },
    "tags": []
   },
   "outputs": [],
   "source": [
    "Bitcoin = Bitcoin.Close.fillna(method = 'pad')"
   ]
  },
  {
   "cell_type": "markdown",
   "id": "33408952",
   "metadata": {
    "papermill": {
     "duration": 0.031093,
     "end_time": "2022-07-27T21:28:58.436762",
     "exception": false,
     "start_time": "2022-07-27T21:28:58.405669",
     "status": "completed"
    },
    "tags": []
   },
   "source": [
    "Aparecen eliminados los valores nulos ya que comprobamos que no hay lagunas de tiempo ahora.\n",
    "\n"
   ]
  },
  {
   "cell_type": "code",
   "execution_count": 13,
   "id": "15339eb6",
   "metadata": {
    "execution": {
     "iopub.execute_input": "2022-07-27T21:28:58.505370Z",
     "iopub.status.busy": "2022-07-27T21:28:58.503988Z",
     "iopub.status.idle": "2022-07-27T21:28:58.513316Z",
     "shell.execute_reply": "2022-07-27T21:28:58.512927Z",
     "shell.execute_reply.started": "2022-07-27T21:13:15.684679Z"
    },
    "papermill": {
     "duration": 0.045097,
     "end_time": "2022-07-27T21:28:58.513449",
     "exception": false,
     "start_time": "2022-07-27T21:28:58.468352",
     "status": "completed"
    },
    "tags": []
   },
   "outputs": [
    {
     "data": {
      "text/plain": [
       "60    403946\n",
       "dtype: int64"
      ]
     },
     "execution_count": 13,
     "metadata": {},
     "output_type": "execute_result"
    }
   ],
   "source": [
    "(Bitcoin.index[1:]-Bitcoin.index[:-1]).value_counts().head()"
   ]
  },
  {
   "cell_type": "markdown",
   "id": "a638d7e5",
   "metadata": {
    "papermill": {
     "duration": 0.031032,
     "end_time": "2022-07-27T21:28:58.576529",
     "exception": false,
     "start_time": "2022-07-27T21:28:58.545497",
     "status": "completed"
    },
    "tags": []
   },
   "source": [
    "# **4. Preprocesamiento de datos para el modelo Deep Learning**\n",
    "## Se dividen el conjunto de datos en train_data y test_data\n"
   ]
  },
  {
   "cell_type": "code",
   "execution_count": 14,
   "id": "970cd1a2",
   "metadata": {
    "execution": {
     "iopub.execute_input": "2022-07-27T21:28:58.643685Z",
     "iopub.status.busy": "2022-07-27T21:28:58.643025Z",
     "iopub.status.idle": "2022-07-27T21:28:58.645246Z",
     "shell.execute_reply": "2022-07-27T21:28:58.645648Z",
     "shell.execute_reply.started": "2022-07-27T21:13:15.703975Z"
    },
    "papermill": {
     "duration": 0.037613,
     "end_time": "2022-07-27T21:28:58.645772",
     "exception": false,
     "start_time": "2022-07-27T21:28:58.608159",
     "status": "completed"
    },
    "tags": []
   },
   "outputs": [],
   "source": [
    "import math\n",
    "Bitcoin_Target = Bitcoin.values\n",
    "train_len = math.ceil(len(Bitcoin_Target) * 0.8)"
   ]
  },
  {
   "cell_type": "code",
   "execution_count": 15,
   "id": "4fc6b359",
   "metadata": {
    "execution": {
     "iopub.execute_input": "2022-07-27T21:28:58.714115Z",
     "iopub.status.busy": "2022-07-27T21:28:58.712560Z",
     "iopub.status.idle": "2022-07-27T21:28:58.714851Z",
     "shell.execute_reply": "2022-07-27T21:28:58.715274Z",
     "shell.execute_reply.started": "2022-07-27T21:13:15.709962Z"
    },
    "papermill": {
     "duration": 0.037504,
     "end_time": "2022-07-27T21:28:58.715410",
     "exception": false,
     "start_time": "2022-07-27T21:28:58.677906",
     "status": "completed"
    },
    "tags": []
   },
   "outputs": [],
   "source": [
    "Bitcoin_Target = Bitcoin_Target.reshape(-1, 1)"
   ]
  },
  {
   "cell_type": "markdown",
   "id": "89c63782",
   "metadata": {
    "papermill": {
     "duration": 0.031768,
     "end_time": "2022-07-27T21:28:58.778753",
     "exception": false,
     "start_time": "2022-07-27T21:28:58.746985",
     "status": "completed"
    },
    "tags": []
   },
   "source": [
    "## Se escalan los datos \n",
    "\n",
    "Se usa el MinMaxScaler metodo para escalar los datos"
   ]
  },
  {
   "cell_type": "code",
   "execution_count": 16,
   "id": "b8e568a0",
   "metadata": {
    "execution": {
     "iopub.execute_input": "2022-07-27T21:28:58.846131Z",
     "iopub.status.busy": "2022-07-27T21:28:58.845540Z",
     "iopub.status.idle": "2022-07-27T21:28:58.940532Z",
     "shell.execute_reply": "2022-07-27T21:28:58.940962Z",
     "shell.execute_reply.started": "2022-07-27T21:13:15.720960Z"
    },
    "papermill": {
     "duration": 0.130517,
     "end_time": "2022-07-27T21:28:58.941109",
     "exception": false,
     "start_time": "2022-07-27T21:28:58.810592",
     "status": "completed"
    },
    "tags": []
   },
   "outputs": [],
   "source": [
    "from sklearn.preprocessing import MinMaxScaler\n",
    "Normalize = MinMaxScaler(feature_range=(0, 1))\n",
    "Bitcoin_Target = Normalize.fit_transform(Bitcoin_Target)"
   ]
  },
  {
   "cell_type": "code",
   "execution_count": 17,
   "id": "f7cfb18d",
   "metadata": {
    "execution": {
     "iopub.execute_input": "2022-07-27T21:28:59.009448Z",
     "iopub.status.busy": "2022-07-27T21:28:59.008925Z",
     "iopub.status.idle": "2022-07-27T21:28:59.011966Z",
     "shell.execute_reply": "2022-07-27T21:28:59.012327Z",
     "shell.execute_reply.started": "2022-07-27T21:13:15.764139Z"
    },
    "papermill": {
     "duration": 0.039572,
     "end_time": "2022-07-27T21:28:59.012475",
     "exception": false,
     "start_time": "2022-07-27T21:28:58.972903",
     "status": "completed"
    },
    "tags": []
   },
   "outputs": [],
   "source": [
    "bit_train_data, bit_test_data = Bitcoin_Target[0:train_len, :], Bitcoin_Target[train_len:len(Bitcoin_Target), :1]"
   ]
  },
  {
   "cell_type": "markdown",
   "id": "65ad897d",
   "metadata": {
    "papermill": {
     "duration": 0.051882,
     "end_time": "2022-07-27T21:28:59.095874",
     "exception": false,
     "start_time": "2022-07-27T21:28:59.043992",
     "status": "completed"
    },
    "tags": []
   },
   "source": [
    "## Se preparan los datos para la serie temporal\n"
   ]
  },
  {
   "cell_type": "code",
   "execution_count": 18,
   "id": "e23ab790",
   "metadata": {
    "execution": {
     "iopub.execute_input": "2022-07-27T21:28:59.231280Z",
     "iopub.status.busy": "2022-07-27T21:28:59.230324Z",
     "iopub.status.idle": "2022-07-27T21:29:00.022362Z",
     "shell.execute_reply": "2022-07-27T21:29:00.021890Z",
     "shell.execute_reply.started": "2022-07-27T21:13:15.770492Z"
    },
    "papermill": {
     "duration": 0.865674,
     "end_time": "2022-07-27T21:29:00.022514",
     "exception": false,
     "start_time": "2022-07-27T21:28:59.156840",
     "status": "completed"
    },
    "tags": []
   },
   "outputs": [],
   "source": [
    "x_train = []\n",
    "y_train = []\n",
    "for i in range(100, len(bit_train_data)):\n",
    "   x_train.append(bit_train_data[i-100:i, 0])\n",
    "   y_train.append(bit_train_data[i, 0])\n",
    "x_train, y_train = np.array(x_train), np.array(y_train)"
   ]
  },
  {
   "cell_type": "code",
   "execution_count": 19,
   "id": "a0f17055",
   "metadata": {
    "execution": {
     "iopub.execute_input": "2022-07-27T21:29:00.093083Z",
     "iopub.status.busy": "2022-07-27T21:29:00.091546Z",
     "iopub.status.idle": "2022-07-27T21:29:00.093708Z",
     "shell.execute_reply": "2022-07-27T21:29:00.094185Z",
     "shell.execute_reply.started": "2022-07-27T21:13:16.394628Z"
    },
    "papermill": {
     "duration": 0.038278,
     "end_time": "2022-07-27T21:29:00.094317",
     "exception": false,
     "start_time": "2022-07-27T21:29:00.056039",
     "status": "completed"
    },
    "tags": []
   },
   "outputs": [],
   "source": [
    "x_train = x_train.reshape(x_train.shape[0], x_train.shape[1], 1)"
   ]
  },
  {
   "cell_type": "markdown",
   "id": "9ce645f0",
   "metadata": {
    "papermill": {
     "duration": 0.032101,
     "end_time": "2022-07-27T21:29:00.158430",
     "exception": false,
     "start_time": "2022-07-27T21:29:00.126329",
     "status": "completed"
    },
    "tags": []
   },
   "source": [
    "Los datos desde el No.0 hasta No.99 pertenecen a x_test y la predicción No.100's a y_test"
   ]
  },
  {
   "cell_type": "code",
   "execution_count": 20,
   "id": "e72d2a0b",
   "metadata": {
    "execution": {
     "iopub.execute_input": "2022-07-27T21:29:00.235654Z",
     "iopub.status.busy": "2022-07-27T21:29:00.234750Z",
     "iopub.status.idle": "2022-07-27T21:29:00.384768Z",
     "shell.execute_reply": "2022-07-27T21:29:00.384187Z",
     "shell.execute_reply.started": "2022-07-27T21:13:16.401320Z"
    },
    "papermill": {
     "duration": 0.19433,
     "end_time": "2022-07-27T21:29:00.384903",
     "exception": false,
     "start_time": "2022-07-27T21:29:00.190573",
     "status": "completed"
    },
    "tags": []
   },
   "outputs": [],
   "source": [
    "x_test = []\n",
    "y_test = []\n",
    "for i in range(100, len(bit_test_data)):\n",
    "   x_test.append(bit_test_data[i-100:i, 0])\n",
    "   y_test.append(bit_test_data[i, 0])\n",
    "x_test, y_test = np.array(x_test), np.array(y_test)"
   ]
  },
  {
   "cell_type": "code",
   "execution_count": 21,
   "id": "7edbb5da",
   "metadata": {
    "execution": {
     "iopub.execute_input": "2022-07-27T21:29:00.453287Z",
     "iopub.status.busy": "2022-07-27T21:29:00.452504Z",
     "iopub.status.idle": "2022-07-27T21:29:00.454455Z",
     "shell.execute_reply": "2022-07-27T21:29:00.454885Z",
     "shell.execute_reply.started": "2022-07-27T21:13:16.564373Z"
    },
    "papermill": {
     "duration": 0.037798,
     "end_time": "2022-07-27T21:29:00.455042",
     "exception": false,
     "start_time": "2022-07-27T21:29:00.417244",
     "status": "completed"
    },
    "tags": []
   },
   "outputs": [],
   "source": [
    "x_test = x_test.reshape(x_test.shape[0], x_test.shape[1], 1)"
   ]
  },
  {
   "cell_type": "code",
   "execution_count": 22,
   "id": "152f9d34",
   "metadata": {
    "execution": {
     "iopub.execute_input": "2022-07-27T21:29:00.524678Z",
     "iopub.status.busy": "2022-07-27T21:29:00.523911Z",
     "iopub.status.idle": "2022-07-27T21:29:00.526632Z",
     "shell.execute_reply": "2022-07-27T21:29:00.527020Z",
     "shell.execute_reply.started": "2022-07-27T21:13:16.570179Z"
    },
    "papermill": {
     "duration": 0.039969,
     "end_time": "2022-07-27T21:29:00.527145",
     "exception": false,
     "start_time": "2022-07-27T21:29:00.487176",
     "status": "completed"
    },
    "tags": []
   },
   "outputs": [
    {
     "data": {
      "text/plain": [
       "(323058, 100, 1)"
      ]
     },
     "execution_count": 22,
     "metadata": {},
     "output_type": "execute_result"
    }
   ],
   "source": [
    "x_train.shape"
   ]
  },
  {
   "cell_type": "markdown",
   "id": "e1cda2b2",
   "metadata": {
    "papermill": {
     "duration": 0.031841,
     "end_time": "2022-07-27T21:29:00.590572",
     "exception": false,
     "start_time": "2022-07-27T21:29:00.558731",
     "status": "completed"
    },
    "tags": []
   },
   "source": [
    "# **5. Deep Learning LSTM Model**"
   ]
  },
  {
   "cell_type": "code",
   "execution_count": 23,
   "id": "862fcfa1",
   "metadata": {
    "execution": {
     "iopub.execute_input": "2022-07-27T21:29:00.664196Z",
     "iopub.status.busy": "2022-07-27T21:29:00.663599Z",
     "iopub.status.idle": "2022-07-27T21:37:23.459281Z",
     "shell.execute_reply": "2022-07-27T21:37:23.458792Z",
     "shell.execute_reply.started": "2022-07-27T21:13:16.585394Z"
    },
    "papermill": {
     "duration": 502.837038,
     "end_time": "2022-07-27T21:37:23.459473",
     "exception": false,
     "start_time": "2022-07-27T21:29:00.622435",
     "status": "completed"
    },
    "tags": []
   },
   "outputs": [
    {
     "name": "stderr",
     "output_type": "stream",
     "text": [
      "2022-07-27 21:29:05.539839: I tensorflow/stream_executor/cuda/cuda_gpu_executor.cc:937] successful NUMA node read from SysFS had negative value (-1), but there must be at least one NUMA node, so returning NUMA node zero\n",
      "2022-07-27 21:29:05.629857: I tensorflow/stream_executor/cuda/cuda_gpu_executor.cc:937] successful NUMA node read from SysFS had negative value (-1), but there must be at least one NUMA node, so returning NUMA node zero\n",
      "2022-07-27 21:29:05.630603: I tensorflow/stream_executor/cuda/cuda_gpu_executor.cc:937] successful NUMA node read from SysFS had negative value (-1), but there must be at least one NUMA node, so returning NUMA node zero\n",
      "2022-07-27 21:29:05.631831: I tensorflow/core/platform/cpu_feature_guard.cc:142] This TensorFlow binary is optimized with oneAPI Deep Neural Network Library (oneDNN) to use the following CPU instructions in performance-critical operations:  AVX2 AVX512F FMA\n",
      "To enable them in other operations, rebuild TensorFlow with the appropriate compiler flags.\n",
      "2022-07-27 21:29:05.632889: I tensorflow/stream_executor/cuda/cuda_gpu_executor.cc:937] successful NUMA node read from SysFS had negative value (-1), but there must be at least one NUMA node, so returning NUMA node zero\n",
      "2022-07-27 21:29:05.633572: I tensorflow/stream_executor/cuda/cuda_gpu_executor.cc:937] successful NUMA node read from SysFS had negative value (-1), but there must be at least one NUMA node, so returning NUMA node zero\n",
      "2022-07-27 21:29:05.634177: I tensorflow/stream_executor/cuda/cuda_gpu_executor.cc:937] successful NUMA node read from SysFS had negative value (-1), but there must be at least one NUMA node, so returning NUMA node zero\n",
      "2022-07-27 21:29:07.745113: I tensorflow/stream_executor/cuda/cuda_gpu_executor.cc:937] successful NUMA node read from SysFS had negative value (-1), but there must be at least one NUMA node, so returning NUMA node zero\n",
      "2022-07-27 21:29:07.746091: I tensorflow/stream_executor/cuda/cuda_gpu_executor.cc:937] successful NUMA node read from SysFS had negative value (-1), but there must be at least one NUMA node, so returning NUMA node zero\n",
      "2022-07-27 21:29:07.746773: I tensorflow/stream_executor/cuda/cuda_gpu_executor.cc:937] successful NUMA node read from SysFS had negative value (-1), but there must be at least one NUMA node, so returning NUMA node zero\n",
      "2022-07-27 21:29:07.747353: I tensorflow/core/common_runtime/gpu/gpu_device.cc:1510] Created device /job:localhost/replica:0/task:0/device:GPU:0 with 15403 MB memory:  -> device: 0, name: Tesla P100-PCIE-16GB, pci bus id: 0000:00:04.0, compute capability: 6.0\n",
      "2022-07-27 21:29:09.030304: I tensorflow/compiler/mlir/mlir_graph_optimization_pass.cc:185] None of the MLIR Optimization Passes are enabled (registered 2)\n"
     ]
    },
    {
     "name": "stdout",
     "output_type": "stream",
     "text": [
      "Epoch 1/30\n"
     ]
    },
    {
     "name": "stderr",
     "output_type": "stream",
     "text": [
      "2022-07-27 21:29:13.331334: I tensorflow/stream_executor/cuda/cuda_dnn.cc:369] Loaded cuDNN version 8005\n"
     ]
    },
    {
     "name": "stdout",
     "output_type": "stream",
     "text": [
      "631/631 [==============================] - 22s 26ms/step - loss: 1.0248e-04\n",
      "Epoch 2/30\n",
      "631/631 [==============================] - 16s 26ms/step - loss: 2.7080e-06\n",
      "Epoch 3/30\n",
      "631/631 [==============================] - 16s 26ms/step - loss: 2.6457e-06\n",
      "Epoch 4/30\n",
      "631/631 [==============================] - 16s 26ms/step - loss: 2.9568e-06\n",
      "Epoch 5/30\n",
      "631/631 [==============================] - 16s 26ms/step - loss: 2.9319e-06\n",
      "Epoch 6/30\n",
      "631/631 [==============================] - 16s 26ms/step - loss: 3.0291e-06\n",
      "Epoch 7/30\n",
      "631/631 [==============================] - 16s 26ms/step - loss: 3.1288e-06\n",
      "Epoch 8/30\n",
      "631/631 [==============================] - 16s 26ms/step - loss: 2.6285e-06\n",
      "Epoch 9/30\n",
      "631/631 [==============================] - 16s 26ms/step - loss: 2.3133e-06\n",
      "Epoch 10/30\n",
      "631/631 [==============================] - 16s 26ms/step - loss: 2.1396e-06\n",
      "Epoch 11/30\n",
      "631/631 [==============================] - 16s 26ms/step - loss: 2.0594e-06\n",
      "Epoch 12/30\n",
      "631/631 [==============================] - 16s 26ms/step - loss: 2.0653e-06\n",
      "Epoch 13/30\n",
      "631/631 [==============================] - 16s 26ms/step - loss: 2.0382e-06\n",
      "Epoch 14/30\n",
      "631/631 [==============================] - 16s 26ms/step - loss: 1.6503e-06\n",
      "Epoch 15/30\n",
      "631/631 [==============================] - 16s 26ms/step - loss: 1.7736e-06\n",
      "Epoch 16/30\n",
      "631/631 [==============================] - 16s 26ms/step - loss: 1.3585e-06\n",
      "Epoch 17/30\n",
      "631/631 [==============================] - 16s 26ms/step - loss: 1.4413e-06\n",
      "Epoch 18/30\n",
      "631/631 [==============================] - 16s 26ms/step - loss: 1.4413e-06\n",
      "Epoch 19/30\n",
      "631/631 [==============================] - 16s 26ms/step - loss: 1.4693e-06\n",
      "Epoch 20/30\n",
      "631/631 [==============================] - 16s 26ms/step - loss: 1.0063e-06\n",
      "Epoch 21/30\n",
      "631/631 [==============================] - 16s 26ms/step - loss: 1.0183e-06\n",
      "Epoch 22/30\n",
      "631/631 [==============================] - 16s 26ms/step - loss: 1.1533e-06\n",
      "Epoch 23/30\n",
      "631/631 [==============================] - 16s 26ms/step - loss: 9.8528e-07\n",
      "Epoch 24/30\n",
      "631/631 [==============================] - 16s 26ms/step - loss: 9.6161e-07\n",
      "Epoch 25/30\n",
      "631/631 [==============================] - 16s 26ms/step - loss: 9.6424e-07\n",
      "Epoch 26/30\n",
      "631/631 [==============================] - 16s 26ms/step - loss: 8.5581e-07\n",
      "Epoch 27/30\n",
      "631/631 [==============================] - 16s 26ms/step - loss: 9.2128e-07\n",
      "Epoch 28/30\n",
      "631/631 [==============================] - 16s 26ms/step - loss: 7.8089e-07\n",
      "Epoch 29/30\n",
      "631/631 [==============================] - 16s 26ms/step - loss: 8.9639e-07\n",
      "Epoch 30/30\n",
      "631/631 [==============================] - 16s 26ms/step - loss: 9.5320e-07\n"
     ]
    }
   ],
   "source": [
    "from tensorflow.keras.models import Sequential\n",
    "from tensorflow.keras.layers import Dense, LSTM, Dropout, Conv1D, MaxPooling1D, TimeDistributed, Flatten\n",
    "from tensorflow.keras.utils import plot_model\n",
    "model = Sequential()\n",
    "model.add(LSTM(50, return_sequences=True, input_shape=(x_train.shape[1], 1)))\n",
    "model.add(LSTM(50, return_sequences=True))\n",
    "model.add(LSTM(50))\n",
    "model.add(Dense(25))\n",
    "model.add(Dense(1))\n",
    "model.compile(loss = 'mse', optimizer = 'adam')\n",
    "history = model.fit(x_train,y_train, batch_size = 512 , epochs = 30)"
   ]
  },
  {
   "cell_type": "code",
   "execution_count": 24,
   "id": "d736f9b4",
   "metadata": {
    "execution": {
     "iopub.execute_input": "2022-07-27T21:37:28.962058Z",
     "iopub.status.busy": "2022-07-27T21:37:28.961413Z",
     "iopub.status.idle": "2022-07-27T21:37:29.217651Z",
     "shell.execute_reply": "2022-07-27T21:37:29.217177Z",
     "shell.execute_reply.started": "2022-07-27T21:21:45.203788Z"
    },
    "papermill": {
     "duration": 2.884611,
     "end_time": "2022-07-27T21:37:29.217777",
     "exception": false,
     "start_time": "2022-07-27T21:37:26.333166",
     "status": "completed"
    },
    "tags": []
   },
   "outputs": [
    {
     "data": {
      "text/plain": [
       "<AxesSubplot:ylabel='loss'>"
      ]
     },
     "execution_count": 24,
     "metadata": {},
     "output_type": "execute_result"
    },
    {
     "data": {
      "image/png": "[encoded data removed]",
      "text/plain": [
       "<Figure size 432x288 with 1 Axes>"
      ]
     },
     "metadata": {},
     "output_type": "display_data"
    }
   ],
   "source": [
    "sns.set()\n",
    "df_history = pd.DataFrame(history.history)\n",
    "sns.lineplot(x = df_history.index, y = df_history.loss)"
   ]
  },
  {
   "cell_type": "markdown",
   "id": "ba3c088e",
   "metadata": {
    "papermill": {
     "duration": 3.072459,
     "end_time": "2022-07-27T21:37:34.781821",
     "exception": false,
     "start_time": "2022-07-27T21:37:31.709362",
     "status": "completed"
    },
    "tags": []
   },
   "source": [
    "# **6. Comparación entre realidad y predicción**"
   ]
  },
  {
   "cell_type": "code",
   "execution_count": 25,
   "id": "9c624eea",
   "metadata": {
    "execution": {
     "iopub.execute_input": "2022-07-27T21:37:39.988677Z",
     "iopub.status.busy": "2022-07-27T21:37:39.987651Z",
     "iopub.status.idle": "2022-07-27T21:37:52.860538Z",
     "shell.execute_reply": "2022-07-27T21:37:52.860058Z",
     "shell.execute_reply.started": "2022-07-27T21:21:45.483282Z"
    },
    "papermill": {
     "duration": 15.326571,
     "end_time": "2022-07-27T21:37:52.860670",
     "exception": false,
     "start_time": "2022-07-27T21:37:37.534099",
     "status": "completed"
    },
    "tags": []
   },
   "outputs": [
    {
     "data": {
      "image/png": "[encoded data removed]",
      "text/plain": [
       "<Figure size 432x288 with 1 Axes>"
      ]
     },
     "metadata": {},
     "output_type": "display_data"
    },
    {
     "data": {
      "text/plain": [
       "<Figure size 432x288 with 0 Axes>"
      ]
     },
     "metadata": {},
     "output_type": "display_data"
    }
   ],
   "source": [
    "import matplotlib.pyplot as plt\n",
    "y_pred = model.predict(x_test)\n",
    "plt.scatter(y_test, y_pred)\n",
    "plt.plot([x for x in range(2)], [x for x in range(2)], color = 'r')\n",
    "plt.xlabel(\"Reality MinMax\")\n",
    "plt.ylabel(\"Predicted MinMax\")\n",
    "plt.show()\n",
    "plt.clf()"
   ]
  },
  {
   "cell_type": "markdown",
   "id": "a24c9e5a",
   "metadata": {
    "papermill": {
     "duration": 2.456635,
     "end_time": "2022-07-27T21:37:57.823833",
     "exception": false,
     "start_time": "2022-07-27T21:37:55.367198",
     "status": "completed"
    },
    "tags": []
   },
   "source": [
    "#### No MinMaxScaler comparación entre prediction(y_pred) precio y reality(y_test) precio"
   ]
  },
  {
   "cell_type": "code",
   "execution_count": 26,
   "id": "d3125178",
   "metadata": {
    "execution": {
     "iopub.execute_input": "2022-07-27T21:38:03.041073Z",
     "iopub.status.busy": "2022-07-27T21:38:03.039963Z",
     "iopub.status.idle": "2022-07-27T21:38:23.591699Z",
     "shell.execute_reply": "2022-07-27T21:38:23.590895Z",
     "shell.execute_reply.started": "2022-07-27T21:21:59.759235Z"
    },
    "papermill": {
     "duration": 23.018275,
     "end_time": "2022-07-27T21:38:23.591835",
     "exception": false,
     "start_time": "2022-07-27T21:38:00.573560",
     "status": "completed"
    },
    "tags": []
   },
   "outputs": [],
   "source": [
    "y_pred = model.predict(x_test)\n",
    "y_test = y_test.reshape(-1, 1)\n",
    "y_pred = Normalize.inverse_transform(y_pred)\n",
    "y_test = Normalize.inverse_transform(y_test)\n",
    "y_pred = y_pred.reshape(len(y_pred), 1)\n",
    "y_test = y_test.reshape(len(y_pred), 1)"
   ]
  },
  {
   "cell_type": "code",
   "execution_count": 27,
   "id": "1e7fb6aa",
   "metadata": {
    "execution": {
     "iopub.execute_input": "2022-07-27T21:38:28.578351Z",
     "iopub.status.busy": "2022-07-27T21:38:28.577446Z",
     "iopub.status.idle": "2022-07-27T21:38:28.902290Z",
     "shell.execute_reply": "2022-07-27T21:38:28.902715Z",
     "shell.execute_reply.started": "2022-07-27T21:22:20.320611Z"
    },
    "papermill": {
     "duration": 2.863143,
     "end_time": "2022-07-27T21:38:28.902864",
     "exception": false,
     "start_time": "2022-07-27T21:38:26.039721",
     "status": "completed"
    },
    "tags": []
   },
   "outputs": [
    {
     "data": {
      "image/png": "[encoded data removed]",
      "text/plain": [
       "<Figure size 432x288 with 1 Axes>"
      ]
     },
     "metadata": {},
     "output_type": "display_data"
    },
    {
     "data": {
      "text/plain": [
       "<Figure size 432x288 with 0 Axes>"
      ]
     },
     "metadata": {},
     "output_type": "display_data"
    }
   ],
   "source": [
    "plt.scatter(y_test, y_pred)\n",
    "plt.plot([10000*x for x in range(2, 8)], [10000*x for x in range(2, 8)], color = 'r')\n",
    "plt.xlabel(\"Reality Prices\")\n",
    "plt.ylabel(\"Predicted prices\")\n",
    "plt.show()\n",
    "plt.clf()"
   ]
  },
  {
   "cell_type": "code",
   "execution_count": 28,
   "id": "4809662e",
   "metadata": {
    "execution": {
     "iopub.execute_input": "2022-07-27T21:38:34.127006Z",
     "iopub.status.busy": "2022-07-27T21:38:34.126462Z",
     "iopub.status.idle": "2022-07-27T21:38:34.130309Z",
     "shell.execute_reply": "2022-07-27T21:38:34.129857Z",
     "shell.execute_reply.started": "2022-07-27T21:22:20.673217Z"
    },
    "papermill": {
     "duration": 2.547207,
     "end_time": "2022-07-27T21:38:34.130453",
     "exception": false,
     "start_time": "2022-07-27T21:38:31.583246",
     "status": "completed"
    },
    "tags": []
   },
   "outputs": [],
   "source": [
    "df_pred = pd.DataFrame(y_pred, columns = ['Prediction'], index = Bitcoin.index[train_len +100:])\n",
    "df_pred['Reality'] = y_test"
   ]
  },
  {
   "cell_type": "code",
   "execution_count": 29,
   "id": "887273ab",
   "metadata": {
    "execution": {
     "iopub.execute_input": "2022-07-27T21:38:39.216294Z",
     "iopub.status.busy": "2022-07-27T21:38:39.215526Z",
     "iopub.status.idle": "2022-07-27T21:38:39.225176Z",
     "shell.execute_reply": "2022-07-27T21:38:39.226176Z",
     "shell.execute_reply.started": "2022-07-27T21:22:20.681127Z"
    },
    "papermill": {
     "duration": 2.641335,
     "end_time": "2022-07-27T21:38:39.226497",
     "exception": false,
     "start_time": "2022-07-27T21:38:36.585162",
     "status": "completed"
    },
    "tags": []
   },
   "outputs": [
    {
     "data": {
      "text/html": [
       "<div>\n",
       "<style scoped>\n",
       "    .dataframe tbody tr th:only-of-type {\n",
       "        vertical-align: middle;\n",
       "    }\n",
       "\n",
       "    .dataframe tbody tr th {\n",
       "        vertical-align: top;\n",
       "    }\n",
       "\n",
       "    .dataframe thead th {\n",
       "        text-align: right;\n",
       "    }\n",
       "</style>\n",
       "<table border=\"1\" class=\"dataframe\">\n",
       "  <thead>\n",
       "    <tr style=\"text-align: right;\">\n",
       "      <th></th>\n",
       "      <th>Prediction</th>\n",
       "      <th>Reality</th>\n",
       "    </tr>\n",
       "  </thead>\n",
       "  <tbody>\n",
       "    <tr>\n",
       "      <th>19395482</th>\n",
       "      <td>32241.078125</td>\n",
       "      <td>32381.508571</td>\n",
       "    </tr>\n",
       "    <tr>\n",
       "      <th>19395542</th>\n",
       "      <td>32342.724609</td>\n",
       "      <td>32338.621954</td>\n",
       "    </tr>\n",
       "    <tr>\n",
       "      <th>19395602</th>\n",
       "      <td>32370.824219</td>\n",
       "      <td>32289.888750</td>\n",
       "    </tr>\n",
       "    <tr>\n",
       "      <th>19395662</th>\n",
       "      <td>32330.468750</td>\n",
       "      <td>32355.902857</td>\n",
       "    </tr>\n",
       "    <tr>\n",
       "      <th>19395722</th>\n",
       "      <td>32336.675781</td>\n",
       "      <td>32343.772500</td>\n",
       "    </tr>\n",
       "    <tr>\n",
       "      <th>...</th>\n",
       "      <td>...</td>\n",
       "      <td>...</td>\n",
       "    </tr>\n",
       "    <tr>\n",
       "      <th>24236522</th>\n",
       "      <td>42716.140625</td>\n",
       "      <td>42703.636250</td>\n",
       "    </tr>\n",
       "    <tr>\n",
       "      <th>24236582</th>\n",
       "      <td>42732.578125</td>\n",
       "      <td>42657.202500</td>\n",
       "    </tr>\n",
       "    <tr>\n",
       "      <th>24236642</th>\n",
       "      <td>42692.546875</td>\n",
       "      <td>42898.565000</td>\n",
       "    </tr>\n",
       "    <tr>\n",
       "      <th>24236702</th>\n",
       "      <td>42817.097656</td>\n",
       "      <td>42960.601429</td>\n",
       "    </tr>\n",
       "    <tr>\n",
       "      <th>24236762</th>\n",
       "      <td>42942.117188</td>\n",
       "      <td>42860.005714</td>\n",
       "    </tr>\n",
       "  </tbody>\n",
       "</table>\n",
       "<p>80689 rows × 2 columns</p>\n",
       "</div>"
      ],
      "text/plain": [
       "            Prediction       Reality\n",
       "19395482  32241.078125  32381.508571\n",
       "19395542  32342.724609  32338.621954\n",
       "19395602  32370.824219  32289.888750\n",
       "19395662  32330.468750  32355.902857\n",
       "19395722  32336.675781  32343.772500\n",
       "...                ...           ...\n",
       "24236522  42716.140625  42703.636250\n",
       "24236582  42732.578125  42657.202500\n",
       "24236642  42692.546875  42898.565000\n",
       "24236702  42817.097656  42960.601429\n",
       "24236762  42942.117188  42860.005714\n",
       "\n",
       "[80689 rows x 2 columns]"
      ]
     },
     "execution_count": 29,
     "metadata": {},
     "output_type": "execute_result"
    }
   ],
   "source": [
    "df_pred"
   ]
  },
  {
   "cell_type": "code",
   "execution_count": 30,
   "id": "09d3b2a8",
   "metadata": {
    "execution": {
     "iopub.execute_input": "2022-07-27T21:38:44.875718Z",
     "iopub.status.busy": "2022-07-27T21:38:44.874874Z",
     "iopub.status.idle": "2022-07-27T21:38:44.877465Z",
     "shell.execute_reply": "2022-07-27T21:38:44.877029Z",
     "shell.execute_reply.started": "2022-07-27T21:22:20.702149Z"
    },
    "papermill": {
     "duration": 2.668867,
     "end_time": "2022-07-27T21:38:44.877589",
     "exception": false,
     "start_time": "2022-07-27T21:38:42.208722",
     "status": "completed"
    },
    "tags": []
   },
   "outputs": [],
   "source": [
    "def log_return(close):\n",
    "    return np.log(close).diff(periods = 15)"
   ]
  },
  {
   "cell_type": "code",
   "execution_count": 31,
   "id": "5b9b2f85",
   "metadata": {
    "execution": {
     "iopub.execute_input": "2022-07-27T21:38:49.903962Z",
     "iopub.status.busy": "2022-07-27T21:38:49.902159Z",
     "iopub.status.idle": "2022-07-27T21:38:49.906057Z",
     "shell.execute_reply": "2022-07-27T21:38:49.905543Z",
     "shell.execute_reply.started": "2022-07-27T21:22:20.712034Z"
    },
    "papermill": {
     "duration": 2.494192,
     "end_time": "2022-07-27T21:38:49.906176",
     "exception": false,
     "start_time": "2022-07-27T21:38:47.411984",
     "status": "completed"
    },
    "tags": []
   },
   "outputs": [
    {
     "data": {
      "text/plain": [
       "array([[0.4668995 ],\n",
       "       [0.46767275],\n",
       "       [0.46717937],\n",
       "       ...,\n",
       "       [0.6461057 ],\n",
       "       [0.64711422],\n",
       "       [0.64547885]])"
      ]
     },
     "execution_count": 31,
     "metadata": {},
     "output_type": "execute_result"
    }
   ],
   "source": [
    "Bitcoin_Target[train_len:len(Bitcoin_Target), :1]"
   ]
  },
  {
   "cell_type": "code",
   "execution_count": 32,
   "id": "26af734e",
   "metadata": {
    "execution": {
     "iopub.execute_input": "2022-07-27T21:38:55.240579Z",
     "iopub.status.busy": "2022-07-27T21:38:55.239704Z",
     "iopub.status.idle": "2022-07-27T21:38:55.249068Z",
     "shell.execute_reply": "2022-07-27T21:38:55.248651Z",
     "shell.execute_reply.started": "2022-07-27T21:22:20.726980Z"
    },
    "papermill": {
     "duration": 2.766635,
     "end_time": "2022-07-27T21:38:55.249184",
     "exception": false,
     "start_time": "2022-07-27T21:38:52.482549",
     "status": "completed"
    },
    "tags": []
   },
   "outputs": [],
   "source": [
    "df_pred['Log_return_prediction'] = log_return(df_pred['Prediction'])[15: ]\n",
    "df_pred['Log_return_reality'] = log_return(df_pred['Reality'])[15: ]"
   ]
  },
  {
   "cell_type": "code",
   "execution_count": 33,
   "id": "0cd8bb17",
   "metadata": {
    "execution": {
     "iopub.execute_input": "2022-07-27T21:39:00.219192Z",
     "iopub.status.busy": "2022-07-27T21:39:00.212541Z",
     "iopub.status.idle": "2022-07-27T21:39:00.605669Z",
     "shell.execute_reply": "2022-07-27T21:39:00.606166Z",
     "shell.execute_reply.started": "2022-07-27T21:22:20.742168Z"
    },
    "papermill": {
     "duration": 2.910736,
     "end_time": "2022-07-27T21:39:00.606308",
     "exception": false,
     "start_time": "2022-07-27T21:38:57.695572",
     "status": "completed"
    },
    "tags": []
   },
   "outputs": [
    {
     "data": {
      "image/png": "[encoded data removed]",
      "text/plain": [
       "<Figure size 1440x720 with 1 Axes>"
      ]
     },
     "metadata": {},
     "output_type": "display_data"
    }
   ],
   "source": [
    "plt.figure(figsize=(20,10))\n",
    "plt.plot(df_pred['Log_return_prediction'], color = 'r' , label = 'Prediction', alpha = 0.5)\n",
    "plt.plot(df_pred['Log_return_reality'], color = 'b', label = 'Reality', alpha = 0.5)\n",
    "plt.legend()\n",
    "plt.show()"
   ]
  },
  {
   "cell_type": "markdown",
   "id": "8713d778",
   "metadata": {
    "papermill": {
     "duration": 2.726552,
     "end_time": "2022-07-27T21:39:05.808847",
     "exception": false,
     "start_time": "2022-07-27T21:39:03.082295",
     "status": "completed"
    },
    "tags": []
   },
   "source": [
    "### Comparación realidad y predicción."
   ]
  },
  {
   "cell_type": "code",
   "execution_count": 34,
   "id": "2c9acd27",
   "metadata": {
    "execution": {
     "iopub.execute_input": "2022-07-27T21:39:10.773420Z",
     "iopub.status.busy": "2022-07-27T21:39:10.772208Z",
     "iopub.status.idle": "2022-07-27T21:39:19.506749Z",
     "shell.execute_reply": "2022-07-27T21:39:19.507151Z",
     "shell.execute_reply.started": "2022-07-27T21:22:21.153398Z"
    },
    "papermill": {
     "duration": 11.195828,
     "end_time": "2022-07-27T21:39:19.507290",
     "exception": false,
     "start_time": "2022-07-27T21:39:08.311462",
     "status": "completed"
    },
    "tags": []
   },
   "outputs": [
    {
     "data": {
      "image/png": "[encoded data removed]",
      "text/plain": [
       "<Figure size 2160x1080 with 1 Axes>"
      ]
     },
     "metadata": {},
     "output_type": "display_data"
    }
   ],
   "source": [
    "plt.figure(figsize = (30, 15))\n",
    "sns.lineplot(x = Bitcoin.index[-100000:], y = Bitcoin.values[-100000:], label = f'The Bitcoin Close')\n",
    "sns.lineplot(x = df_pred.index, y = df_pred.Prediction, label = 'Prediction', color = 'r')\n",
    "sns.lineplot(x = df_pred.index, y = df_pred.Reality, label = 'Reality', color = 'g')\n",
    "plt.legend()\n",
    "plt.show()"
   ]
  }
 ],
 "metadata": {
  "kernelspec": {
   "display_name": "Python 3",
   "language": "python",
   "name": "python3"
  },
  "language_info": {
   "codemirror_mode": {
    "name": "ipython",
    "version": 3
   },
   "file_extension": ".py",
   "mimetype": "text/x-python",
   "name": "python",
   "nbconvert_exporter": "python",
   "pygments_lexer": "ipython3",
   "version": "3.7.12"
  },
  "papermill": {
   "default_parameters": {},
   "duration": 691.950273,
   "end_time": "2022-07-27T21:39:24.819025",
   "environment_variables": {},
   "exception": null,
   "input_path": "__notebook__.ipynb",
   "output_path": "__notebook__.ipynb",
   "parameters": {},
   "start_time": "2022-07-27T21:27:52.868752",
   "version": "2.3.3"
  }
 },
 "nbformat": 4,
 "nbformat_minor": 5
}
